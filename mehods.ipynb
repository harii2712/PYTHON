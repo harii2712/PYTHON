{
 "cells": [
  {
   "cell_type": "code",
   "execution_count": 4,
   "id": "70efb4b0-34a2-43b5-999c-5e50676e6935",
   "metadata": {},
   "outputs": [
    {
     "name": "stdout",
     "output_type": "stream",
     "text": [
      "hai\n",
      "welcome\n",
      "bye\n"
     ]
    }
   ],
   "source": [
    "class A:\n",
    "    def get1(self):\n",
    "        print(\"hai\")\n",
    "\n",
    "class B:\n",
    "    def get2(self):\n",
    "       print(\"welcome\")\n",
    "\n",
    "class C(A,B):\n",
    "    def get3(self):\n",
    "        print(\"bye\")\n",
    "\n",
    "ob=C()\n",
    "ob.get1()\n",
    "ob.get2()\n",
    "ob.get3()\n",
    "    "
   ]
  },
  {
   "cell_type": "code",
   "execution_count": 19,
   "id": "d575d307-db65-4d55-900a-411746a12d1a",
   "metadata": {},
   "outputs": [
    {
     "name": "stdout",
     "output_type": "stream",
     "text": [
      "bye\n"
     ]
    }
   ],
   "source": [
    "class A:\n",
    "    def get(self):\n",
    "        print(\"hai\")\n",
    "\n",
    "class B:\n",
    "    def get(self):\n",
    "       print(\"bye\")\n",
    "\n",
    "ob=B()\n",
    "ob.get()"
   ]
  },
  {
   "cell_type": "code",
   "execution_count": 18,
   "id": "d23702fc-5650-40c7-953c-55e8977e7ce3",
   "metadata": {},
   "outputs": [
    {
     "name": "stdout",
     "output_type": "stream",
     "text": [
      "bye\n"
     ]
    }
   ],
   "source": [
    "class A:\n",
    "    def get(self):\n",
    "        print(\"hai\")\n",
    "\n",
    "class B:\n",
    "    def get(self):\n",
    "        print(\"bye\")\n",
    "\n",
    "\n",
    "ob=B()\n",
    "ob.get()"
   ]
  },
  {
   "cell_type": "code",
   "execution_count": null,
   "id": "0df77b6e-77da-4e5c-a0ae-882e5e8e7a0f",
   "metadata": {},
   "outputs": [],
   "source": []
  }
 ],
 "metadata": {
  "kernelspec": {
   "display_name": "Python 3 (ipykernel)",
   "language": "python",
   "name": "python3"
  },
  "language_info": {
   "codemirror_mode": {
    "name": "ipython",
    "version": 3
   },
   "file_extension": ".py",
   "mimetype": "text/x-python",
   "name": "python",
   "nbconvert_exporter": "python",
   "pygments_lexer": "ipython3",
   "version": "3.12.7"
  }
 },
 "nbformat": 4,
 "nbformat_minor": 5
}
