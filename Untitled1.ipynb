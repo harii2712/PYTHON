{
 "cells": [
  {
   "cell_type": "markdown",
   "id": "54906bcb-388b-4915-9170-5c0387daa6a0",
   "metadata": {},
   "source": [
    "a=int(input())\n",
    "\n",
    "if(a%2==0):\n",
    "    print(\"even number\")\n",
    "else:\n",
    "    print(\"odd number\")    #== compare operations"
   ]
  },
  {
   "cell_type": "code",
   "execution_count": 3,
   "id": "d0f31c0e-28df-4dc7-bbbc-82ab1d239265",
   "metadata": {},
   "outputs": [
    {
     "name": "stdin",
     "output_type": "stream",
     "text": [
      " 15\n",
      " 70\n"
     ]
    },
    {
     "name": "stdout",
     "output_type": "stream",
     "text": [
      "b is big\n"
     ]
    }
   ],
   "source": [
    "a=int(input())\n",
    "b=int(input())\n",
    "if (a>b):\n",
    "   print(\"a is big\")   # > greater than operatar\n",
    "else: \n",
    "   print(\"b is big\") "
   ]
  },
  {
   "cell_type": "code",
   "execution_count": 4,
   "id": "b78e8692-facf-4d93-830c-0be652ac065e",
   "metadata": {},
   "outputs": [
    {
     "name": "stdin",
     "output_type": "stream",
     "text": [
      " 25\n"
     ]
    },
    {
     "name": "stdout",
     "output_type": "stream",
     "text": [
      "end with 5\n"
     ]
    }
   ],
   "source": [
    "a=int(input())\n",
    "if(a%10==5):\n",
    "    print(\"end with 5\")\n",
    "else:\n",
    "    print(\"not end with 5\")"
   ]
  },
  {
   "cell_type": "code",
   "execution_count": 5,
   "id": "dcd19557-83e8-4a1f-b0ac-255da6a3e362",
   "metadata": {},
   "outputs": [
    {
     "name": "stdout",
     "output_type": "stream",
     "text": [
      "bye\n"
     ]
    }
   ],
   "source": [
    "if():\n",
    "    print(\"hello\")\n",
    "\n",
    "else:\n",
    "    print(\"bye\")"
   ]
  },
  {
   "cell_type": "code",
   "execution_count": 9,
   "id": "6ed5c5cc-5837-476a-a205-c082e7919caf",
   "metadata": {},
   "outputs": [
    {
     "name": "stdout",
     "output_type": "stream",
     "text": [
      "hello\n"
     ]
    }
   ],
   "source": [
    "if(-1):\n",
    "    print(\"hello\")\n",
    "\n",
    "else:\n",
    "    print(\"bye\")  #0 is no value so if come + or - they comes if statement"
   ]
  },
  {
   "cell_type": "code",
   "execution_count": 10,
   "id": "65008d03-7ac6-4d7e-ae6d-45739fc118cb",
   "metadata": {},
   "outputs": [
    {
     "name": "stdout",
     "output_type": "stream",
     "text": [
      "bye\n"
     ]
    }
   ],
   "source": [
    "a='besant'\n",
    "b=10\n",
    "if(a==b):\n",
    "   print(\"hai\")\n",
    "else:\n",
    "    print(\"bye\")\n"
   ]
  },
  {
   "cell_type": "code",
   "execution_count": 12,
   "id": "568621ea-77c8-43d4-aaae-ae8fcc4ce890",
   "metadata": {},
   "outputs": [
    {
     "name": "stdout",
     "output_type": "stream",
     "text": [
      "bye\n"
     ]
    }
   ],
   "source": [
    "a='this is'\n",
    "b='this  is'\n",
    "if (a==b):\n",
    "    print(\"hai\")\n",
    "else:\n",
    "    print(\"bye\")"
   ]
  },
  {
   "cell_type": "code",
   "execution_count": 17,
   "id": "b001b926-aa2b-4637-bc6c-a5b67ed2fae4",
   "metadata": {},
   "outputs": [
    {
     "name": "stdout",
     "output_type": "stream",
     "text": [
      "10\n"
     ]
    }
   ],
   "source": [
    "a=10\n",
    "a=20\n",
    "b=20\n",
    "if(a==b):\n",
    "    b=10\n",
    "else:\n",
    "    b=30\n",
    "\n",
    "print(b)"
   ]
  },
  {
   "cell_type": "code",
   "execution_count": 18,
   "id": "77c8dd49-49c1-4223-8047-ede01ed74739",
   "metadata": {},
   "outputs": [
    {
     "name": "stdout",
     "output_type": "stream",
     "text": [
      "(10, 20)\n"
     ]
    }
   ],
   "source": [
    "a=10,20\n",
    "print(a)"
   ]
  },
  {
   "cell_type": "code",
   "execution_count": 19,
   "id": "2e5f0717-2fc9-4e8e-ac4a-caf18ec50c8e",
   "metadata": {},
   "outputs": [
    {
     "name": "stdout",
     "output_type": "stream",
     "text": [
      "10\n",
      "20\n"
     ]
    }
   ],
   "source": [
    "a,b=10,20\n",
    "print(a)\n",
    "print(b)"
   ]
  },
  {
   "cell_type": "code",
   "execution_count": 21,
   "id": "151eca1e-8edf-4703-afd8-dea1bfdb7b5b",
   "metadata": {},
   "outputs": [
    {
     "ename": "ValueError",
     "evalue": "too many values to unpack (expected 2)",
     "output_type": "error",
     "traceback": [
      "\u001b[1;31m---------------------------------------------------------------------------\u001b[0m",
      "\u001b[1;31mValueError\u001b[0m                                Traceback (most recent call last)",
      "Cell \u001b[1;32mIn[21], line 1\u001b[0m\n\u001b[1;32m----> 1\u001b[0m a,b\u001b[38;5;241m=\u001b[39m\u001b[38;5;241m10\u001b[39m,\u001b[38;5;241m20\u001b[39m,\u001b[38;5;241m30\u001b[39m\n\u001b[0;32m      2\u001b[0m \u001b[38;5;28mprint\u001b[39m(a)\n\u001b[0;32m      3\u001b[0m \u001b[38;5;28mprint\u001b[39m(b)\n",
      "\u001b[1;31mValueError\u001b[0m: too many values to unpack (expected 2)"
     ]
    }
   ],
   "source": [
    "a,b=10,20,30\n",
    "print(a)\n",
    "print(b) "
   ]
  },
  {
   "cell_type": "code",
   "execution_count": null,
   "id": "f0066552-b2cc-4396-93ec-6afa331652ae",
   "metadata": {},
   "outputs": [],
   "source": []
  }
 ],
 "metadata": {
  "kernelspec": {
   "display_name": "Python 3 (ipykernel)",
   "language": "python",
   "name": "python3"
  },
  "language_info": {
   "codemirror_mode": {
    "name": "ipython",
    "version": 3
   },
   "file_extension": ".py",
   "mimetype": "text/x-python",
   "name": "python",
   "nbconvert_exporter": "python",
   "pygments_lexer": "ipython3",
   "version": "3.12.7"
  }
 },
 "nbformat": 4,
 "nbformat_minor": 5
}
