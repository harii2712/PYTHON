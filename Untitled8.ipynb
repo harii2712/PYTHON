{
 "cells": [
  {
   "cell_type": "code",
   "execution_count": 2,
   "id": "c0978a5e-a269-4c60-8ebd-04314167e36d",
   "metadata": {},
   "outputs": [
    {
     "name": "stdout",
     "output_type": "stream",
     "text": [
      "This is a Test \n"
     ]
    }
   ],
   "source": [
    "a=\"is1 Thi0s T3est 2a\"\n",
    "words=a.split(\" \")\n",
    "\n",
    "result=[\"\"]*10\n",
    "\n",
    "for w in words:\n",
    "    for ch in w:\n",
    "        if(ch.isdigit()):\n",
    "            pos=int(ch)\n",
    "            result[pos]=w.replace(ch,\"\")\n",
    "\n",
    "final=\"\"\n",
    "for w1 in result:\n",
    "    if(w1!=\"\"):\n",
    "        final=final+w1+\" \"\n",
    "\n",
    "print(final)"
   ]
  },
  {
   "cell_type": "code",
   "execution_count": 3,
   "id": "cd22202d-912c-4033-bf0b-7d276d0854ec",
   "metadata": {},
   "outputs": [
    {
     "ename": "SyntaxError",
     "evalue": "invalid non-printable character U+200B (85011361.py, line 4)",
     "output_type": "error",
     "traceback": [
      "\u001b[1;36m  Cell \u001b[1;32mIn[3], line 4\u001b[1;36m\u001b[0m\n\u001b[1;33m    ​\u001b[0m\n\u001b[1;37m    ^\u001b[0m\n\u001b[1;31mSyntaxError\u001b[0m\u001b[1;31m:\u001b[0m invalid non-printable character U+200B\n"
     ]
    }
   ],
   "source": [
    "P(X=R)=( \n",
    "R\n",
    "N\n",
    "​\n",
    " )⋅p \n",
    "R\n",
    " ⋅(1−p) \n",
    "N−R"
   ]
  },
  {
   "cell_type": "code",
   "execution_count": 4,
   "id": "965b7d9f-b5fd-44cd-8207-b7a2e63f973e",
   "metadata": {},
   "outputs": [
    {
     "name": "stdout",
     "output_type": "stream",
     "text": [
      " bsnt\n"
     ]
    }
   ],
   "source": [
    "a=\"besant\"\n",
    "b=\"aeiouAEIOU\"\n",
    "c=\" \"\n",
    "for i in a:\n",
    "    if i not in b:\n",
    "        c=c+i\n",
    "\n",
    "print(c)"
   ]
  },
  {
   "cell_type": "code",
   "execution_count": 10,
   "id": "a8018826-56ea-4167-9f18-cde636ce2b83",
   "metadata": {},
   "outputs": [
    {
     "ename": "IndentationError",
     "evalue": "unexpected indent (2046395549.py, line 4)",
     "output_type": "error",
     "traceback": [
      "\u001b[1;36m  Cell \u001b[1;32mIn[10], line 4\u001b[1;36m\u001b[0m\n\u001b[1;33m    rep= false\u001b[0m\n\u001b[1;37m    ^\u001b[0m\n\u001b[1;31mIndentationError\u001b[0m\u001b[1;31m:\u001b[0m unexpected indent\n"
     ]
    }
   ],
   "source": [
    "a=\"besant\"\n",
    "b=\"aeiouAEIOU\"\n",
    "c=\" \"\n",
    "   rep= false\n",
    "for i in a:\n",
    "    if i in b:\n",
    "        if rep:\n",
    "            continue\n",
    "        rep=true\n",
    "    else:\n",
    "        rep=false\n",
    "        c=c+i\n",
    "print(c)"
   ]
  },
  {
   "cell_type": "code",
   "execution_count": 11,
   "id": "74cda9a3-e47e-4970-be23-c767332b8f46",
   "metadata": {},
   "outputs": [
    {
     "name": "stdout",
     "output_type": "stream",
     "text": [
      "11\n"
     ]
    }
   ],
   "source": [
    "a=[55,44,33,22]\n",
    "\n",
    "min =a[0]\n",
    "for i in range (0,len(a)):\n",
    "    for j in range(i+1,len(a)):\n",
    "        b=a[i]-a[j]\n",
    "    if (b<min):\n",
    "        min=b\n",
    "print(min)"
   ]
  },
  {
   "cell_type": "code",
   "execution_count": 17,
   "id": "62c0a6f2-94a7-4b7f-96c2-007d90fa3ba1",
   "metadata": {},
   "outputs": [
    {
     "ename": "AttributeError",
     "evalue": "'str' object has no attribute 'srot'",
     "output_type": "error",
     "traceback": [
      "\u001b[1;31m---------------------------------------------------------------------------\u001b[0m",
      "\u001b[1;31mAttributeError\u001b[0m                            Traceback (most recent call last)",
      "Cell \u001b[1;32mIn[17], line 7\u001b[0m\n\u001b[0;32m      5\u001b[0m              c\u001b[38;5;241m.\u001b[39mappend(a[i])\n\u001b[0;32m      6\u001b[0m              c\u001b[38;5;241m.\u001b[39mappend(a[j])\n\u001b[1;32m----> 7\u001b[0m c\u001b[38;5;241m.\u001b[39msrot()\n\u001b[0;32m      8\u001b[0m \u001b[38;5;28mprint\u001b[39m(c)\n",
      "\u001b[1;31mAttributeError\u001b[0m: 'str' object has no attribute 'srot'"
     ]
    }
   ],
   "source": [
    "for i in range (0,len(a)):\n",
    "    for j in range(i+1,len(a)):\n",
    "        b=a[i],a[j]\n",
    "        if(b==min):\n",
    "             c.append(a[i])\n",
    "             c.append(a[j])\n",
    "c.sort()\n",
    "print(c)"
   ]
  },
  {
   "cell_type": "code",
   "execution_count": null,
   "id": "c142e316-9ee8-408e-939a-277d36a38f20",
   "metadata": {},
   "outputs": [],
   "source": []
  }
 ],
 "metadata": {
  "kernelspec": {
   "display_name": "Python 3 (ipykernel)",
   "language": "python",
   "name": "python3"
  },
  "language_info": {
   "codemirror_mode": {
    "name": "ipython",
    "version": 3
   },
   "file_extension": ".py",
   "mimetype": "text/x-python",
   "name": "python",
   "nbconvert_exporter": "python",
   "pygments_lexer": "ipython3",
   "version": "3.12.7"
  }
 },
 "nbformat": 4,
 "nbformat_minor": 5
}
