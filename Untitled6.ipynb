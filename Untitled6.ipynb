{
 "cells": [
  {
   "cell_type": "code",
   "execution_count": 1,
   "id": "2da97702-f40e-4456-b08e-58f10899e529",
   "metadata": {},
   "outputs": [
    {
     "name": "stdout",
     "output_type": "stream",
     "text": [
      "[1, 2, 3, 4, 5, 'Harii', 'be']\n",
      "1\n",
      "2\n",
      "3\n",
      "4\n",
      "5\n",
      "Harii\n",
      "be\n",
      "[0]\n",
      "[1]\n",
      "[2]\n",
      "[3]\n",
      "[4]\n",
      "[5]\n",
      "[6]\n"
     ]
    }
   ],
   "source": [
    "a=[1,2,3,4,5, \"Harii\",\"be\"]\n",
    "print(a)\n",
    "for i in a :\n",
    "    print(i)\n",
    "\n",
    "#a[0] a[1]\n",
    "for i in range(0,len(a)):\n",
    "    print([i])"
   ]
  },
  {
   "cell_type": "code",
   "execution_count": 2,
   "id": "cfd83f1e-9c97-44b0-b142-51a447357fa3",
   "metadata": {},
   "outputs": [
    {
     "name": "stdout",
     "output_type": "stream",
     "text": [
      "[1, 2, 3, 4, 5]\n"
     ]
    }
   ],
   "source": [
    "a=[1,2,3]\n",
    "b=[4,5]\n",
    "c=a+b\n",
    "print(c)"
   ]
  },
  {
   "cell_type": "code",
   "execution_count": 1,
   "id": "2c808785-e2ca-4c0a-87b9-101932fa05d1",
   "metadata": {},
   "outputs": [
    {
     "name": "stdout",
     "output_type": "stream",
     "text": [
      "[1, 2, 3, 'be', 5, 6]\n"
     ]
    }
   ],
   "source": [
    "a=[1,2,3,4,5,6]\n",
    "a[3]= \"be\"\n",
    "print(a)"
   ]
  },
  {
   "cell_type": "code",
   "execution_count": 6,
   "id": "595111a0-f546-41e7-8e7d-6a05366f1685",
   "metadata": {},
   "outputs": [
    {
     "name": "stdout",
     "output_type": "stream",
     "text": [
      "['abc', 'hai', 'hello']\n"
     ]
    }
   ],
   "source": [
    "a=[\"besant\",\"abc\",\"hai\", \"hello\",\"how\",1,3]\n",
    "print(a[1:4]) #list index"
   ]
  },
  {
   "cell_type": "code",
   "execution_count": 7,
   "id": "b82ef06a-398f-40d4-8e83-b20e79d14779",
   "metadata": {},
   "outputs": [
    {
     "name": "stdout",
     "output_type": "stream",
     "text": [
      "['abc', 'hai', 'hello', 'how', 1, 3]\n"
     ]
    }
   ],
   "source": [
    "a=[\"besant\",\"abc\",\"hai\", \"hello\",\"how\",1,3]\n",
    "print(a[1:]) #list index"
   ]
  },
  {
   "cell_type": "code",
   "execution_count": 8,
   "id": "38d60d03-aa36-4f9d-a038-dbf97c6959e9",
   "metadata": {},
   "outputs": [
    {
     "name": "stdout",
     "output_type": "stream",
     "text": [
      "['besant', 'abc']\n"
     ]
    }
   ],
   "source": [
    "a=[\"besant\",\"abc\",\"hai\", \"hello\",\"how\",1,3]\n",
    "print(a[:2])"
   ]
  },
  {
   "cell_type": "code",
   "execution_count": 9,
   "id": "6d75b7ee-675f-4e15-9401-3db241ddeb6f",
   "metadata": {},
   "outputs": [
    {
     "name": "stdout",
     "output_type": "stream",
     "text": [
      "['besant', 'hai', 'how', 3]\n"
     ]
    }
   ],
   "source": [
    "a=[\"besant\",\"abc\",\"hai\", \"hello\",\"how\",1,3]\n",
    "print(a[::2])"
   ]
  },
  {
   "cell_type": "code",
   "execution_count": 10,
   "id": "b28207b5-897a-43c1-9d37-16ed5278b6d7",
   "metadata": {},
   "outputs": [
    {
     "name": "stdout",
     "output_type": "stream",
     "text": [
      "3\n"
     ]
    }
   ],
   "source": [
    "a=[\"besant\",\"abc\",\"hai\", \"hello\",\"how\",1,3]\n",
    "print(a[-1])"
   ]
  },
  {
   "cell_type": "code",
   "execution_count": 12,
   "id": "22e3eda2-67a3-4fea-abde-3c566ecdc72f",
   "metadata": {},
   "outputs": [
    {
     "name": "stdout",
     "output_type": "stream",
     "text": [
      "[10, 11, 12, 'hai', 'hello', 'how', 1, 3]\n"
     ]
    }
   ],
   "source": [
    "a=[\"besant\",\"abc\",\"hai\", \"hello\",\"how\",1,3]\n",
    "a[0:2]=[10,11,12]\n",
    "\n",
    "print(a)"
   ]
  },
  {
   "cell_type": "code",
   "execution_count": 14,
   "id": "d8fbb8a9-23f8-43ca-a839-86b6f01e2d52",
   "metadata": {},
   "outputs": [
    {
     "name": "stdout",
     "output_type": "stream",
     "text": [
      "[10, 11, 'hai', 'hello', 'how', 1, 3]\n"
     ]
    }
   ],
   "source": [
    "a=[\"besant\",\"abc\",\"hai\", \"hello\",\"how\",1,3]\n",
    "a[0:2]=[10,11]\n",
    "print(a)"
   ]
  },
  {
   "cell_type": "code",
   "execution_count": 15,
   "id": "6bff45d9-428e-4313-b3a2-b2b6946055e5",
   "metadata": {},
   "outputs": [
    {
     "name": "stdout",
     "output_type": "stream",
     "text": [
      "['abc', 'hai', 'hello']\n"
     ]
    }
   ],
   "source": [
    "a=[\"besant\",\"abc\",\"hai\", \"hello\",\"how\",1,3]\n",
    "print(a[1:4])"
   ]
  },
  {
   "cell_type": "code",
   "execution_count": 16,
   "id": "1cf23d3c-4f71-4666-946d-0885b9c00d08",
   "metadata": {},
   "outputs": [
    {
     "name": "stdout",
     "output_type": "stream",
     "text": [
      "[1, 2, 3, 4, 5, 1, 2, 3, 4, 5]\n"
     ]
    }
   ],
   "source": [
    "a=[1,2,3,4,5]\n",
    "a=a*2\n",
    "print(a)"
   ]
  },
  {
   "cell_type": "code",
   "execution_count": 19,
   "id": "3a424ac4-1345-4bed-9d34-24e8e85b5276",
   "metadata": {},
   "outputs": [
    {
     "ename": "TypeError",
     "evalue": "can only concatenate list (not \"int\") to list",
     "output_type": "error",
     "traceback": [
      "\u001b[1;31m---------------------------------------------------------------------------\u001b[0m",
      "\u001b[1;31mTypeError\u001b[0m                                 Traceback (most recent call last)",
      "Cell \u001b[1;32mIn[19], line 2\u001b[0m\n\u001b[0;32m      1\u001b[0m a\u001b[38;5;241m=\u001b[39m[\u001b[38;5;241m1\u001b[39m,\u001b[38;5;241m2\u001b[39m,\u001b[38;5;241m3\u001b[39m,\u001b[38;5;241m4\u001b[39m,\u001b[38;5;241m5\u001b[39m]\n\u001b[1;32m----> 2\u001b[0m a\u001b[38;5;241m=\u001b[39ma\u001b[38;5;241m+\u001b[39m\u001b[38;5;241m2\u001b[39m\n\u001b[0;32m      3\u001b[0m \u001b[38;5;28mprint\u001b[39m(a)\n",
      "\u001b[1;31mTypeError\u001b[0m: can only concatenate list (not \"int\") to list"
     ]
    }
   ],
   "source": [
    "a=[1,2,3,4,5]\n",
    "a=a+2\n",
    "print(a)\n"
   ]
  },
  {
   "cell_type": "code",
   "execution_count": 20,
   "id": "d222825e-efc4-460c-b26c-487b4c42b8ad",
   "metadata": {},
   "outputs": [
    {
     "name": "stdout",
     "output_type": "stream",
     "text": [
      "[1, 2, 3, 4, 5, 6]\n"
     ]
    }
   ],
   "source": [
    "a=[1,2,3,4,5]\n",
    "a.append(6)\n",
    "print(a)"
   ]
  },
  {
   "cell_type": "code",
   "execution_count": 21,
   "id": "9a5f550d-0071-4278-a6df-f846203a4146",
   "metadata": {},
   "outputs": [
    {
     "name": "stdout",
     "output_type": "stream",
     "text": [
      "[1, 2, 3, 4, 5, 6, 7]\n"
     ]
    }
   ],
   "source": [
    "a=[1,2,3,4,5]\n",
    "b=[6,7]\n",
    "a.extend(b) #a=a+b\n",
    "print(a)"
   ]
  },
  {
   "cell_type": "code",
   "execution_count": 22,
   "id": "85db7792-e1a4-483c-a19f-6ee70a0437df",
   "metadata": {},
   "outputs": [
    {
     "name": "stdout",
     "output_type": "stream",
     "text": [
      "[1, 'abc', 2, 3, 4, 5]\n"
     ]
    }
   ],
   "source": [
    "a=[1,2,3,4,5]\n",
    "a.insert(1,\"abc\")\n",
    "\n",
    "print(a)"
   ]
  },
  {
   "cell_type": "code",
   "execution_count": 23,
   "id": "b1fa9ee0-49f6-47f6-b539-8ca242a3a158",
   "metadata": {},
   "outputs": [
    {
     "name": "stdout",
     "output_type": "stream",
     "text": [
      "[1, 2, 4, 5]\n"
     ]
    }
   ],
   "source": [
    "a=[1,2,3,4,5]\n",
    "a.remove(3)\n",
    "print(a)"
   ]
  },
  {
   "cell_type": "code",
   "execution_count": 2,
   "id": "5bb93414-43cd-48b3-bb55-1454d3ee0d2b",
   "metadata": {},
   "outputs": [
    {
     "name": "stdout",
     "output_type": "stream",
     "text": [
      "['abc', 'hai', 'how', 'are', 'you']\n"
     ]
    }
   ],
   "source": [
    "a=[\"abc\",\"hello\",\"hai\",\"how\",\"are\",\"you\"]\n",
    "a.remove (\"hello\")\n",
    "print(a)"
   ]
  },
  {
   "cell_type": "code",
   "execution_count": 29,
   "id": "973e0055-3dd7-489f-a075-8fc80944a2a4",
   "metadata": {},
   "outputs": [
    {
     "name": "stdout",
     "output_type": "stream",
     "text": [
      "[1, 2, 4, 5]\n"
     ]
    }
   ],
   "source": [
    "a=[1,2,3,4,5]\n",
    "a.remove(3) #lits not index it based on element\n",
    "print(a)"
   ]
  },
  {
   "cell_type": "code",
   "execution_count": 30,
   "id": "c42488a9-7a56-4bd9-bffb-d4c503efde80",
   "metadata": {},
   "outputs": [
    {
     "name": "stdout",
     "output_type": "stream",
     "text": [
      "[1, 2, 3]\n"
     ]
    }
   ],
   "source": [
    "a=[1,2,3,4,5]\n",
    "a.pop() #remove last element\n",
    "a.pop(3) # remove the index\n",
    "print(a)"
   ]
  },
  {
   "cell_type": "code",
   "execution_count": 31,
   "id": "881f4ee0-58e8-4ad0-b06c-fb816ca6170a",
   "metadata": {},
   "outputs": [
    {
     "name": "stdout",
     "output_type": "stream",
     "text": [
      "[1, 2, 3, 4]\n"
     ]
    }
   ],
   "source": [
    "a=[1,2,3,4,5]\n",
    "a.pop()\n",
    "print(a)"
   ]
  },
  {
   "cell_type": "code",
   "execution_count": 32,
   "id": "08781072-5a01-4cbb-be14-e7080f18a600",
   "metadata": {},
   "outputs": [
    {
     "name": "stdout",
     "output_type": "stream",
     "text": [
      "[1, 2, 3, 5]\n"
     ]
    }
   ],
   "source": [
    "a=[1,2,3,4,5]\n",
    "a.pop(3)\n",
    "print(a)"
   ]
  },
  {
   "cell_type": "code",
   "execution_count": 33,
   "id": "9557c1c5-ed53-4e77-8b81-074c56c173ac",
   "metadata": {},
   "outputs": [
    {
     "name": "stdout",
     "output_type": "stream",
     "text": [
      "4\n",
      "5\n",
      "1\n",
      "9\n",
      "5\n"
     ]
    }
   ],
   "source": [
    "a=[4,5,0,1,9,0,5,0]\n",
    "for i in a:\n",
    "    if (i!=0):\n",
    "        print(i)"
   ]
  },
  {
   "cell_type": "code",
   "execution_count": 34,
   "id": "f5a9b261-fbcf-4e8c-8f5a-d74eed3dd946",
   "metadata": {},
   "outputs": [
    {
     "name": "stdout",
     "output_type": "stream",
     "text": [
      "[0, 0, 0, 0, 0, 0, 0, 0]\n"
     ]
    }
   ],
   "source": [
    "a=[4,5,0,1,9,0,5,0]\n",
    "b=[0 for i in range(8)]\n",
    "print(b)"
   ]
  },
  {
   "cell_type": "code",
   "execution_count": 35,
   "id": "fa5fd17a-e4d9-4dae-a2b7-a3c7133ce70c",
   "metadata": {},
   "outputs": [
    {
     "name": "stdout",
     "output_type": "stream",
     "text": [
      "[4, 5, 1, 9, 5, 0, 0, 0]\n"
     ]
    }
   ],
   "source": [
    "a=[4,5,0,1,9,0,5,0]\n",
    "b=[0 for i in range(8)]\n",
    "j=0\n",
    "for i in range(0,8):\n",
    "    if(a[i]!=0):\n",
    "        b[j]=a[i] #b[0] b[1]\n",
    "        j=j+1\n",
    "print(b)"
   ]
  },
  {
   "cell_type": "code",
   "execution_count": null,
   "id": "73c5416e-4223-4172-bad9-c2e8319237a8",
   "metadata": {},
   "outputs": [],
   "source": [
    "\n"
   ]
  }
 ],
 "metadata": {
  "kernelspec": {
   "display_name": "Python 3 (ipykernel)",
   "language": "python",
   "name": "python3"
  },
  "language_info": {
   "codemirror_mode": {
    "name": "ipython",
    "version": 3
   },
   "file_extension": ".py",
   "mimetype": "text/x-python",
   "name": "python",
   "nbconvert_exporter": "python",
   "pygments_lexer": "ipython3",
   "version": "3.12.7"
  }
 },
 "nbformat": 4,
 "nbformat_minor": 5
}
