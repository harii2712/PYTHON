{
 "cells": [
  {
   "cell_type": "code",
   "execution_count": null,
   "id": "748d459c-400b-4cad-bc20-8419e18a35a8",
   "metadata": {},
   "outputs": [],
   "source": [
    "#OOPS \n",
    "     # OBJECT ORIENTED PROGRAMMING LANGUAGE/SYSTEM"
   ]
  },
  {
   "cell_type": "code",
   "execution_count": null,
   "id": "e1c7b780-b30a-426e-9cb8-655bff44ee93",
   "metadata": {},
   "outputs": [],
   "source": [
    "#FUNCTION = METHOD"
   ]
  },
  {
   "cell_type": "code",
   "execution_count": 4,
   "id": "87f0bcc8-160a-42b2-8fb6-96bf3b88bef3",
   "metadata": {},
   "outputs": [
    {
     "name": "stdout",
     "output_type": "stream",
     "text": [
      "hai\n",
      "welcome\n"
     ]
    }
   ],
   "source": [
    "class A:\n",
    "    def best(self):\n",
    "        print(\"hai\")\n",
    "    def best1(self):\n",
    "        print(\"welcome\")\n",
    "\n",
    "ob=A()\n",
    "ob.best()\n",
    "ob.best1()"
   ]
  },
  {
   "cell_type": "code",
   "execution_count": 6,
   "id": "51fa937f-2126-4962-a3e5-89329adc16ac",
   "metadata": {},
   "outputs": [
    {
     "name": "stdout",
     "output_type": "stream",
     "text": [
      "hai harii\n"
     ]
    }
   ],
   "source": [
    "class A:\n",
    "    def best(self,a):\n",
    "        print(\"hai\",a)\n",
    "ob=A()\n",
    "ob.best('harii')"
   ]
  },
  {
   "cell_type": "code",
   "execution_count": 10,
   "id": "3090030a-bde1-458d-a033-9d0cac841b2d",
   "metadata": {},
   "outputs": [
    {
     "name": "stdout",
     "output_type": "stream",
     "text": [
      "hai harii\n"
     ]
    }
   ],
   "source": [
    "class A:\n",
    "    def best(self,a='harii'):\n",
    "        print(\"hai\",a)\n",
    "\n",
    "ob=A()\n",
    "ob.best()"
   ]
  },
  {
   "cell_type": "code",
   "execution_count": 12,
   "id": "2d202849-a89c-4f23-ac15-7bf0c0b72176",
   "metadata": {},
   "outputs": [
    {
     "name": "stdout",
     "output_type": "stream",
     "text": [
      "hai\n"
     ]
    }
   ],
   "source": [
    "class A:\n",
    "    def best(self):\n",
    "        return\"hai\"\n",
    "\n",
    "ob=A()\n",
    "print(ob.best())"
   ]
  },
  {
   "cell_type": "code",
   "execution_count": 15,
   "id": "a88e1798-4d6a-4737-904f-1e71f1fb3b03",
   "metadata": {},
   "outputs": [
    {
     "name": "stdout",
     "output_type": "stream",
     "text": [
      "hai\n"
     ]
    }
   ],
   "source": [
    " class A:\n",
    "     def __init__(self):\n",
    "      print(\"hai\")\n",
    "\n",
    "ob=A()"
   ]
  },
  {
   "cell_type": "code",
   "execution_count": 16,
   "id": "68610909-474a-4656-b03a-529340620f9a",
   "metadata": {},
   "outputs": [
    {
     "name": "stdout",
     "output_type": "stream",
     "text": [
      "hai harii\n"
     ]
    }
   ],
   "source": [
    "class A:\n",
    "    def __init__(self,a):\n",
    "        print(\"hai\",a)\n",
    "\n",
    "ob=A('harii')"
   ]
  },
  {
   "cell_type": "code",
   "execution_count": 23,
   "id": "0874c278-c6ea-4a33-a450-3b4e94a8abb3",
   "metadata": {},
   "outputs": [
    {
     "name": "stdout",
     "output_type": "stream",
     "text": [
      "hai\n",
      "welcome\n"
     ]
    }
   ],
   "source": [
    "class A:\n",
    "    def best(self):\n",
    "        print(\"hai\")\n",
    "\n",
    "class B(A):\n",
    "    def get(self):\n",
    "        print(\"welcome\")\n",
    "\n",
    "ob=B()\n",
    "ob.best()\n",
    "ob.get()\n",
    "    "
   ]
  },
  {
   "cell_type": "code",
   "execution_count": 24,
   "id": "f88d98b4-0d3d-468d-a487-29618da94715",
   "metadata": {},
   "outputs": [
    {
     "name": "stdout",
     "output_type": "stream",
     "text": [
      "hai\n",
      "welcome\n",
      "bye\n"
     ]
    }
   ],
   "source": [
    "class A:\n",
    "    def best(self):\n",
    "        print(\"hai\")\n",
    "\n",
    "class B(A):\n",
    "    def get(self):\n",
    "        print(\"welcome\")\n",
    "\n",
    "class C(B):\n",
    "    def put(self):\n",
    "        print(\"bye\")\n",
    "\n",
    "ob=C()\n",
    "ob.best()\n",
    "ob.get()\n",
    "ob.put()\n"
   ]
  },
  {
   "cell_type": "code",
   "execution_count": null,
   "id": "75f90e79-5708-49c9-9c46-ef65414c945d",
   "metadata": {},
   "outputs": [],
   "source": []
  }
 ],
 "metadata": {
  "kernelspec": {
   "display_name": "Python 3 (ipykernel)",
   "language": "python",
   "name": "python3"
  },
  "language_info": {
   "codemirror_mode": {
    "name": "ipython",
    "version": 3
   },
   "file_extension": ".py",
   "mimetype": "text/x-python",
   "name": "python",
   "nbconvert_exporter": "python",
   "pygments_lexer": "ipython3",
   "version": "3.12.7"
  }
 },
 "nbformat": 4,
 "nbformat_minor": 5
}
