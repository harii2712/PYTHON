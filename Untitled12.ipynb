{
 "cells": [
  {
   "cell_type": "code",
   "execution_count": 2,
   "id": "ebca9b0b-cfd1-4bff-b4cb-f00085681be2",
   "metadata": {},
   "outputs": [
    {
     "name": "stdout",
     "output_type": "stream",
     "text": [
      "12\n"
     ]
    }
   ],
   "source": [
    "check1 = ['Learn', 'Quiz', 'Practice', 'Contribute']\n",
    "check2 = check1\n",
    "check3 = check1[:]\n",
    "\n",
    "check2[0] = 'Code'\n",
    "check3[1] = 'Mcq'\n",
    "\n",
    "count = 0\n",
    "for c in (check1, check2, check3):\n",
    "    if c[0] == 'Code':\n",
    "        count += 1\n",
    "    if c[1] == 'Mcq':\n",
    "        count += 10\n",
    "\n",
    "print(count)"
   ]
  },
  {
   "cell_type": "code",
   "execution_count": 3,
   "id": "6c24afae-1842-4f87-a2b6-5d5911ef9942",
   "metadata": {},
   "outputs": [
    {
     "name": "stdout",
     "output_type": "stream",
     "text": [
      "[0, 1]\n",
      "[3, 2, 1, 0, 1, 4]\n",
      "[0, 1, 0, 1, 4]\n"
     ]
    }
   ],
   "source": [
    "def gfg(x,l=[]):\n",
    "    for i in range(x):\n",
    "        l.append(i*i)\n",
    "    print(l)\n",
    "\n",
    "gfg(2)\n",
    "gfg(3,[3,2,1])\n",
    "gfg(3)"
   ]
  },
  {
   "cell_type": "code",
   "execution_count": 4,
   "id": "18211b91-2ede-47f3-9264-2f6a497ee75e",
   "metadata": {},
   "outputs": [
    {
     "name": "stdout",
     "output_type": "stream",
     "text": [
      "['ab', 'cd']\n"
     ]
    }
   ],
   "source": [
    "x = ['ab', 'cd']\n",
    "for i in x:\n",
    "    i.upper()\n",
    "print(x)"
   ]
  },
  {
   "cell_type": "code",
   "execution_count": 6,
   "id": "ebc2ed5d-5414-4d48-9ccc-8d35925ab077",
   "metadata": {
    "scrolled": true
   },
   "outputs": [
    {
     "name": "stdout",
     "output_type": "stream",
     "text": [
      "[]\n"
     ]
    }
   ],
   "source": [
    "list = ['a', 'b', 'c']*-3\n",
    "print (list)"
   ]
  },
  {
   "cell_type": "code",
   "execution_count": 7,
   "id": "7c1be7f9-4cbc-4767-9d3f-7656d00e5c37",
   "metadata": {},
   "outputs": [
    {
     "name": "stdout",
     "output_type": "stream",
     "text": [
      "True\n"
     ]
    }
   ],
   "source": [
    "dictionary = {\"geek\":10, \"for\":45, \"geeks\": 90}\n",
    "print(\"geek\" in dictionary)"
   ]
  },
  {
   "cell_type": "code",
   "execution_count": 8,
   "id": "99115f00-5aed-41c9-8df3-200fb649d129",
   "metadata": {},
   "outputs": [
    {
     "name": "stdout",
     "output_type": "stream",
     "text": [
      "16 Geeks 25 For 32 Geeks "
     ]
    }
   ],
   "source": [
    "y={16:\"Geeks\",25:\"For\",32:\"Geeks\"}\n",
    "\n",
    "for i,j in y.items():\n",
    "    print(i,j,end=\" \")"
   ]
  },
  {
   "cell_type": "code",
   "execution_count": 9,
   "id": "92e21c91-7b70-4dc2-ba43-b303caf2aafa",
   "metadata": {},
   "outputs": [
    {
     "name": "stdout",
     "output_type": "stream",
     "text": [
      "Wh t will h ve so will "
     ]
    }
   ],
   "source": [
    "line =  \"What will have so will\"\n",
    "L = line.split('a')\n",
    "for i in L:\n",
    "    print(i, end=' ')"
   ]
  },
  {
   "cell_type": "code",
   "execution_count": 13,
   "id": "0a5cca9a-ae3f-43ff-b337-fac4a8c8ef75",
   "metadata": {},
   "outputs": [
    {
     "ename": "TypeError",
     "evalue": "'list' object is not callable",
     "output_type": "error",
     "traceback": [
      "\u001b[1;31m---------------------------------------------------------------------------\u001b[0m",
      "\u001b[1;31mTypeError\u001b[0m                                 Traceback (most recent call last)",
      "Cell \u001b[1;32mIn[13], line 1\u001b[0m\n\u001b[1;32m----> 1\u001b[0m L \u001b[38;5;241m=\u001b[39m\u001b[38;5;28mlist\u001b[39m(\u001b[38;5;124m'\u001b[39m\u001b[38;5;124m123456\u001b[39m\u001b[38;5;124m'\u001b[39m)\n\u001b[0;32m      2\u001b[0m L[\u001b[38;5;241m0\u001b[39m] \u001b[38;5;241m=\u001b[39m L[\u001b[38;5;241m5\u001b[39m] \u001b[38;5;241m=\u001b[39m \u001b[38;5;241m0\u001b[39m\n\u001b[0;32m      3\u001b[0m L[\u001b[38;5;241m3\u001b[39m] \u001b[38;5;241m=\u001b[39m L[\u001b[38;5;241m-\u001b[39m\u001b[38;5;241m2\u001b[39m]\n",
      "\u001b[1;31mTypeError\u001b[0m: 'list' object is not callable"
     ]
    }
   ],
   "source": [
    "L =list('123456')\n",
    "L[0] = L[5] = 0\n",
    "L[3] = L[-2]\n",
    "print(L)"
   ]
  },
  {
   "cell_type": "code",
   "execution_count": 14,
   "id": "a67da9c8-83b1-4be9-a62c-677a4934e7a9",
   "metadata": {},
   "outputs": [
    {
     "name": "stdout",
     "output_type": "stream",
     "text": [
      "[True, 50, 5, 10] Sum is:  66\n"
     ]
    }
   ],
   "source": [
    "List = [True, 50, 10]\n",
    "List.insert(2, 5)    \n",
    "print(List, \"Sum is: \", sum(List))"
   ]
  },
  {
   "cell_type": "code",
   "execution_count": 16,
   "id": "a6c0b46b-18e6-4482-83ae-7bd8539b89f3",
   "metadata": {},
   "outputs": [
    {
     "name": "stdout",
     "output_type": "stream",
     "text": [
      "True\n"
     ]
    }
   ],
   "source": [
    "my_tuple = (6, 9, 0, 0)\n",
    "my_tuple1 = (5, 2, 3, 4)\n",
    "print (my_tuple > my_tuple1)"
   ]
  },
  {
   "cell_type": "code",
   "execution_count": 18,
   "id": "b93e0d2f-3753-4ce9-a5b2-2369c86831f1",
   "metadata": {},
   "outputs": [
    {
     "ename": "TypeError",
     "evalue": "'str' object cannot be interpreted as an integer",
     "output_type": "error",
     "traceback": [
      "\u001b[1;31m---------------------------------------------------------------------------\u001b[0m",
      "\u001b[1;31mTypeError\u001b[0m                                 Traceback (most recent call last)",
      "Cell \u001b[1;32mIn[18], line 2\u001b[0m\n\u001b[0;32m      1\u001b[0m my_string \u001b[38;5;241m=\u001b[39m (\u001b[38;5;124m'\u001b[39m\u001b[38;5;124mgeeksforgeeks\u001b[39m\u001b[38;5;124m'\u001b[39m)\n\u001b[1;32m----> 2\u001b[0m \u001b[38;5;28;01mfor\u001b[39;00m i \u001b[38;5;129;01min\u001b[39;00m \u001b[38;5;28mrange\u001b[39m(my_string):\n\u001b[0;32m      3\u001b[0m     \u001b[38;5;28mprint\u001b[39m(i)\n",
      "\u001b[1;31mTypeError\u001b[0m: 'str' object cannot be interpreted as an integer"
     ]
    }
   ],
   "source": [
    "my_string = ('geeksforgeeks')\n",
    "for i in range(my_string):\n",
    "    print(i)"
   ]
  },
  {
   "cell_type": "code",
   "execution_count": 19,
   "id": "4b921d7f-37c8-4364-87dd-1ff7d1c322a5",
   "metadata": {},
   "outputs": [
    {
     "name": "stdout",
     "output_type": "stream",
     "text": [
      "love\n"
     ]
    }
   ],
   "source": [
    "if (7 < 0) and (0 < -7):\n",
    "    print(\"abhi\")\n",
    "elif (7 > 0) or False:\n",
    "    print(\"love\")\n",
    "else:\n",
    "    print(\"geeksforgeeks\")"
   ]
  },
  {
   "cell_type": "code",
   "execution_count": 20,
   "id": "a71fb90f-aa25-407d-bd31-6c6a92929478",
   "metadata": {},
   "outputs": [
    {
     "name": "stdout",
     "output_type": "stream",
     "text": [
      "Sum: 8\n",
      "Difference: 2\n"
     ]
    }
   ],
   "source": [
    "class Calculator:\n",
    "    def add(self, a, b):\n",
    "        return a + b\n",
    "\n",
    "    def subtract(self, a, b):\n",
    "        return a - b\n",
    "\n",
    "# Testing the calculator\n",
    "calc = Calculator()\n",
    "print(\"Sum:\", calc.add(5, 3))\n",
    "print(\"Difference:\", calc.subtract(5, 3))"
   ]
  },
  {
   "cell_type": "code",
   "execution_count": null,
   "id": "176d2ef6-a1fa-45c3-8f86-4ce7a22afbf4",
   "metadata": {},
   "outputs": [],
   "source": []
  }
 ],
 "metadata": {
  "kernelspec": {
   "display_name": "Python 3 (ipykernel)",
   "language": "python",
   "name": "python3"
  },
  "language_info": {
   "codemirror_mode": {
    "name": "ipython",
    "version": 3
   },
   "file_extension": ".py",
   "mimetype": "text/x-python",
   "name": "python",
   "nbconvert_exporter": "python",
   "pygments_lexer": "ipython3",
   "version": "3.12.7"
  }
 },
 "nbformat": 4,
 "nbformat_minor": 5
}
