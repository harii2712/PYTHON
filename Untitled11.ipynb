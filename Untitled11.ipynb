{
 "cells": [
  {
   "cell_type": "code",
   "execution_count": 2,
   "id": "082e7b57-da31-49c0-b5ec-1f4473ffe9cc",
   "metadata": {},
   "outputs": [
    {
     "name": "stdout",
     "output_type": "stream",
     "text": [
      "21\n"
     ]
    }
   ],
   "source": [
    "a=[1,2,4,5,6]\n",
    "n=len(a)+1\n",
    "total=n*(n+1)//2\n",
    "print(total)"
   ]
  },
  {
   "cell_type": "code",
   "execution_count": 4,
   "id": "911e8441-b749-486e-9bad-7a34ba166962",
   "metadata": {},
   "outputs": [
    {
     "name": "stdout",
     "output_type": "stream",
     "text": [
      "0\n"
     ]
    }
   ],
   "source": [
    "a=[1,2,4,5,6]\n",
    "n=len(a)+1\n",
    "total=n*(n*1)//2        #sum of natural number\n",
    "print(total-sum(a)) "
   ]
  },
  {
   "cell_type": "code",
   "execution_count": 6,
   "id": "4df98ed1-b53c-45d1-8a4c-2f3f8ac5fa35",
   "metadata": {},
   "outputs": [
    {
     "name": "stdout",
     "output_type": "stream",
     "text": [
      "amanaplanacanalpanama\n"
     ]
    }
   ],
   "source": [
    "#polindrome    # not polindrome\n",
    "import re\n",
    "a=\"A man, a plan, a canal, panama\"\n",
    "b=re.sub(r'[^a-zA-z]','',a).lower()\n",
    "print(b)"
   ]
  },
  {
   "cell_type": "code",
   "execution_count": 7,
   "id": "69c4b525-b1ef-4c7f-907d-e95450fe5b96",
   "metadata": {},
   "outputs": [
    {
     "name": "stdout",
     "output_type": "stream",
     "text": [
      " ,  ,  , \n"
     ]
    }
   ],
   "source": [
    "import re\n",
    "a=\"A man, a plan, a canal, panama\"\n",
    "b=re.sub(r'[a-zA-z]','',a).lower()\n",
    "print(b)"
   ]
  },
  {
   "cell_type": "code",
   "execution_count": 8,
   "id": "a96d16ab-3a7a-4259-a0b2-d42e333e0cd1",
   "metadata": {},
   "outputs": [
    {
     "name": "stdout",
     "output_type": "stream",
     "text": [
      "polindrome\n"
     ]
    }
   ],
   "source": [
    "a=\"A man, a plan, a canal, panama\"\n",
    "b=re.sub(r'[a-zA-z]','',a).lower()\n",
    "c=b[::-1]\n",
    "if(b==c):\n",
    "    print(\"polindrome\")\n",
    "else:\n",
    "    print(\"not\")"
   ]
  },
  {
   "cell_type": "code",
   "execution_count": 11,
   "id": "b1b8d22d-daa3-409f-bb1e-3f52cdc2e44b",
   "metadata": {},
   "outputs": [
    {
     "name": "stdin",
     "output_type": "stream",
     "text": [
      " 7\n",
      " 2\n"
     ]
    },
    {
     "name": "stdout",
     "output_type": "stream",
     "text": [
      "4\n"
     ]
    }
   ],
   "source": [
    "r=int(input())\n",
    "unit=int(input())\n",
    "arr=[2,8,3,5,7,4,1]\n",
    "total1=r*unit     #7*2+14\n",
    "total2=0\n",
    "for i in range(len(arr)):\n",
    "    total2=total2+arr[i]    #2 10 13 18\n",
    "    if (total2>=total1):\n",
    "        print(i+1)\n",
    "        break"
   ]
  },
  {
   "cell_type": "code",
   "execution_count": 15,
   "id": "a3e4a0cb-5be2-4388-85a5-168615551120",
   "metadata": {},
   "outputs": [
    {
     "name": "stdin",
     "output_type": "stream",
     "text": [
      " 13\n",
      " 12\n"
     ]
    },
    {
     "ename": "TypeError",
     "evalue": "'builtin_function_or_method' object is not subscriptable",
     "output_type": "error",
     "traceback": [
      "\u001b[1;31m---------------------------------------------------------------------------\u001b[0m",
      "\u001b[1;31mTypeError\u001b[0m                                 Traceback (most recent call last)",
      "Cell \u001b[1;32mIn[15], line 6\u001b[0m\n\u001b[0;32m      4\u001b[0m count\u001b[38;5;241m=\u001b[39m\u001b[38;5;241m0\u001b[39m\n\u001b[0;32m      5\u001b[0m \u001b[38;5;28;01mfor\u001b[39;00m i \u001b[38;5;129;01min\u001b[39;00m \u001b[38;5;28mrange\u001b[39m(\u001b[38;5;241m0\u001b[39m,\u001b[38;5;28mlen\u001b[39m(a)):\n\u001b[1;32m----> 6\u001b[0m     b\u001b[38;5;241m=\u001b[39m\u001b[38;5;28mabs\u001b[39m [a[i]\u001b[38;5;241m-\u001b[39mnum]\n\u001b[0;32m      7\u001b[0m     \u001b[38;5;28;01mif\u001b[39;00m(b\u001b[38;5;241m<\u001b[39m\u001b[38;5;241m=\u001b[39mdiff):\n\u001b[0;32m      8\u001b[0m         count\u001b[38;5;241m=\u001b[39mcount\u001b[38;5;241m+\u001b[39m\u001b[38;5;241m1\u001b[39m\n",
      "\u001b[1;31mTypeError\u001b[0m: 'builtin_function_or_method' object is not subscriptable"
     ]
    }
   ],
   "source": [
    "a=[12,3,14,56,77,13]\n",
    "num=int(input())\n",
    "diff=int(input())\n",
    "count=0\n",
    "for i in range(0,len(a)):\n",
    "    b=abs [a[i]-num]\n",
    "    if(b<=diff):\n",
    "        count=count+1\n",
    "print(count)"
   ]
  },
  {
   "cell_type": "code",
   "execution_count": 13,
   "id": "85f78160-24a7-4466-a17f-9ab833436e7e",
   "metadata": {},
   "outputs": [
    {
     "name": "stdout",
     "output_type": "stream",
     "text": [
      "C\n",
      "C\n",
      "C\n",
      "A\n",
      "B\n"
     ]
    }
   ],
   "source": [
    "s=\"1C0C1C1A0B1\"\n",
    "if not s:\n",
    "    print(\"-1\")\n",
    "else:\n",
    "    result=int(s[0])\n",
    "    for i in range(1,len(s)-1,2):\n",
    "        op=s[i]\n",
    "        print(op)"
   ]
  },
  {
   "cell_type": "code",
   "execution_count": 14,
   "id": "b7bb1a7a-383b-463c-bdbb-0a1cac0fc849",
   "metadata": {},
   "outputs": [
    {
     "name": "stdout",
     "output_type": "stream",
     "text": [
      "C\n",
      "-1\n",
      "C\n",
      "-1\n",
      "C\n",
      "-1\n",
      "A\n",
      "B\n",
      "1\n"
     ]
    }
   ],
   "source": [
    "s=\"1C0C1C1A0B1\"\n",
    "if not s:\n",
    "    print(\"-1\")\n",
    "else:\n",
    "    result=int(s[0])\n",
    "    for i in range(1,len(s)-1,2):\n",
    "        op=s[i]\n",
    "        print(op)\n",
    "        num=int(s[i+1])\n",
    "        if(op=='A'):\n",
    "            result=result&num\n",
    "        elif(op=='B'):\n",
    "            result=result|num\n",
    "        elif(op=='c'):\n",
    "            result=result^num\n",
    "        else:\n",
    "            print(\"-1\")\n",
    "print(result)"
   ]
  },
  {
   "cell_type": "code",
   "execution_count": null,
   "id": "11c6159e-b5fa-4c37-b6d3-72c87bd17461",
   "metadata": {},
   "outputs": [],
   "source": []
  }
 ],
 "metadata": {
  "kernelspec": {
   "display_name": "Python 3 (ipykernel)",
   "language": "python",
   "name": "python3"
  },
  "language_info": {
   "codemirror_mode": {
    "name": "ipython",
    "version": 3
   },
   "file_extension": ".py",
   "mimetype": "text/x-python",
   "name": "python",
   "nbconvert_exporter": "python",
   "pygments_lexer": "ipython3",
   "version": "3.12.7"
  }
 },
 "nbformat": 4,
 "nbformat_minor": 5
}
