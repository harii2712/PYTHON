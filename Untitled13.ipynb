{
 "cells": [
  {
   "cell_type": "code",
   "execution_count": null,
   "id": "4932ecb3-1807-43c9-839d-f46b3e115ff0",
   "metadata": {},
   "outputs": [],
   "source": [
    "#TRY --------- gets the error\n",
    "#EXCEPt-------- HANDLE\n",
    "#FINALLY--------- ERROR OK"
   ]
  },
  {
   "cell_type": "code",
   "execution_count": 1,
   "id": "2f139c5c-0319-4806-869a-aefa1c4c3d3d",
   "metadata": {},
   "outputs": [
    {
     "name": "stdout",
     "output_type": "stream",
     "text": [
      "cannot divide by zero\n"
     ]
    }
   ],
   "source": [
    "a=10\n",
    "b=0\n",
    "try:\n",
    "    c=a/b  #doubt\n",
    "    print(c)\n",
    "except ZeroDivisionError: #handle error \n",
    "    print(\"cannot divide by zero\")"
   ]
  },
  {
   "cell_type": "code",
   "execution_count": 2,
   "id": "b65797e6-464e-4f09-a4e3-801ea889bd38",
   "metadata": {},
   "outputs": [
    {
     "name": "stdin",
     "output_type": "stream",
     "text": [
      " besant\n"
     ]
    },
    {
     "name": "stdout",
     "output_type": "stream",
     "text": [
      "this is value error\n"
     ]
    }
   ],
   "source": [
    "try:\n",
    "    a=int(input()) #INT\n",
    "    print(a)\n",
    "except ValueError: # handle error\n",
    "    print(\"this is value error\")"
   ]
  },
  {
   "cell_type": "code",
   "execution_count": 13,
   "id": "6e09c492-b37c-4d4d-825d-333d4d7eca7e",
   "metadata": {},
   "outputs": [
    {
     "name": "stdout",
     "output_type": "stream",
     "text": [
      "index error\n"
     ]
    }
   ],
   "source": [
    "try:\n",
    "    l=[2,3,5,7,8]\n",
    "    print(l[9]) #out of index\n",
    "except IndexError: #handle error\n",
    "    print(\"index error\")"
   ]
  },
  {
   "cell_type": "code",
   "execution_count": 9,
   "id": "ecd11769-ae78-43f6-8bf2-7a34659ed711",
   "metadata": {},
   "outputs": [
    {
     "name": "stdout",
     "output_type": "stream",
     "text": [
      "key error\n"
     ]
    }
   ],
   "source": [
    "try:\n",
    "    a={'besant':1, 'tech':2}\n",
    "    print(a['abc'])\n",
    "except KeyError:  #handle error\n",
    "    print(\"key error\")"
   ]
  },
  {
   "cell_type": "code",
   "execution_count": 10,
   "id": "cf2a74ac-1981-4150-a98a-7a1fc7565af5",
   "metadata": {},
   "outputs": [
    {
     "name": "stdout",
     "output_type": "stream",
     "text": [
      "1\n"
     ]
    }
   ],
   "source": [
    "try:\n",
    "    a={'besant':1, 'tech':2}\n",
    "    print(a['besant'])\n",
    "except KeyError: \n",
    "    print(\"key error\")"
   ]
  },
  {
   "cell_type": "code",
   "execution_count": 11,
   "id": "b065380e-0d19-4bda-9043-c41ca2e0101e",
   "metadata": {},
   "outputs": [
    {
     "name": "stdout",
     "output_type": "stream",
     "text": [
      "1\n",
      "ok\n"
     ]
    }
   ],
   "source": [
    "try:\n",
    "    a={'besant':1, 'tech':2}\n",
    "    print(a['besant'])\n",
    "except KeyError: \n",
    "    print(\"key error\")\n",
    "finally: #finally will executed were the error will come or not\n",
    "    print(\"ok\")"
   ]
  },
  {
   "cell_type": "code",
   "execution_count": 14,
   "id": "279c7ca5-340b-4b13-9830-46f6970c8446",
   "metadata": {},
   "outputs": [
    {
     "name": "stdout",
     "output_type": "stream",
     "text": [
      "not found\n"
     ]
    }
   ],
   "source": [
    "try:\n",
    " with open('abc.txt','r') as a:\n",
    "     content=a.read()\n",
    "     print(content)\n",
    "except FileNotFoundError:\n",
    "    print(\"not found\")\n",
    "    \n",
    "\n"
   ]
  },
  {
   "cell_type": "code",
   "execution_count": 17,
   "id": "df3ff6db-f570-4bb7-9d52-5be346332215",
   "metadata": {},
   "outputs": [],
   "source": [
    "with open ('abc.txt','a') as a:\n",
    "    a.write(\"example program\")"
   ]
  },
  {
   "cell_type": "code",
   "execution_count": 21,
   "id": "96767394-6239-4468-82b9-03f1b21d95e4",
   "metadata": {},
   "outputs": [
    {
     "name": "stdout",
     "output_type": "stream",
     "text": [
      "7\n"
     ]
    }
   ],
   "source": [
    "def get(a,b):\n",
    "    c=a+b\n",
    "    print(c)\n",
    "get (5,2)"
   ]
  },
  {
   "cell_type": "code",
   "execution_count": 23,
   "id": "3b07264c-0c2a-494b-a762-eaa2e4f350d1",
   "metadata": {},
   "outputs": [
    {
     "name": "stdout",
     "output_type": "stream",
     "text": [
      "7\n",
      "11\n"
     ]
    }
   ],
   "source": [
    "def get(a,b):\n",
    "    c=a+b\n",
    "    print(c)\n",
    "\n",
    "\n",
    "get (5,2)\n",
    "\n",
    "c=lambda a,b:a+b\n",
    "print(c(5,6))"
   ]
  },
  {
   "cell_type": "code",
   "execution_count": 2,
   "id": "fc6434ea-9a22-4bc2-b763-1961138c8e4b",
   "metadata": {},
   "outputs": [],
   "source": [
    "from abc import ABC, abstractmethod\n",
    "class A(ABC):\n",
    "    @abstractmethod\n",
    "    def get (self):\n",
    "        pass\n",
    "        \n",
    "class B(A):\n",
    "    def get (self):\n",
    "        print(\"hai\")\n",
    "\n",
    "class C(A):\n",
    "    def get(self):\n",
    "        print(\"welcome\")\n",
    "\n",
    "\n",
    "        "
   ]
  },
  {
   "cell_type": "code",
   "execution_count": null,
   "id": "7909155c-5f49-4d38-807b-434b3ce11780",
   "metadata": {},
   "outputs": [],
   "source": []
  }
 ],
 "metadata": {
  "kernelspec": {
   "display_name": "Python 3 (ipykernel)",
   "language": "python",
   "name": "python3"
  },
  "language_info": {
   "codemirror_mode": {
    "name": "ipython",
    "version": 3
   },
   "file_extension": ".py",
   "mimetype": "text/x-python",
   "name": "python",
   "nbconvert_exporter": "python",
   "pygments_lexer": "ipython3",
   "version": "3.12.7"
  }
 },
 "nbformat": 4,
 "nbformat_minor": 5
}
