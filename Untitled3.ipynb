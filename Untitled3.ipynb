{
 "cells": [
  {
   "cell_type": "code",
   "execution_count": 3,
   "id": "94c9bcdf-041c-4192-b414-ceeed3f45c3c",
   "metadata": {},
   "outputs": [
    {
     "name": "stdout",
     "output_type": "stream",
     "text": [
      "hai\n",
      "hai\n",
      "hai\n",
      "hai\n",
      "hai\n",
      "hai\n",
      "hai\n",
      "hai\n",
      "hai\n"
     ]
    }
   ],
   "source": [
    "for i in range(1,4):  #outer loop\n",
    "    for j in range(1,4):  # inner loop\n",
    "        print(\"hai\")"
   ]
  },
  {
   "cell_type": "code",
   "execution_count": 4,
   "id": "6d3f4ddd-5e33-43ec-bf4a-a2a71655c680",
   "metadata": {},
   "outputs": [
    {
     "name": "stdout",
     "output_type": "stream",
     "text": [
      "1\n",
      "2\n",
      "3\n",
      "1\n",
      "2\n",
      "3\n",
      "1\n",
      "2\n",
      "3\n"
     ]
    }
   ],
   "source": [
    "for i in range(1,4):  #outer loop\n",
    "    for j in range(1,4):  # inner loop\n",
    "        print(j)"
   ]
  },
  {
   "cell_type": "code",
   "execution_count": 5,
   "id": "80bdf309-a019-4617-9ebc-7862cc229213",
   "metadata": {},
   "outputs": [
    {
     "name": "stdout",
     "output_type": "stream",
     "text": [
      "1\n",
      "1\n",
      "1\n",
      "2\n",
      "2\n",
      "2\n",
      "3\n",
      "3\n",
      "3\n"
     ]
    }
   ],
   "source": [
    "for i in range(1,4):  \n",
    "    for j in range(1,4):\n",
    "        print(i)"
   ]
  },
  {
   "cell_type": "code",
   "execution_count": 7,
   "id": "8df04a97-0a68-4df3-a619-26e09fcb19b8",
   "metadata": {},
   "outputs": [
    {
     "name": "stdout",
     "output_type": "stream",
     "text": [
      "1\n",
      "1\n",
      "1\n",
      "1\n",
      "1\n",
      "2\n",
      "2\n",
      "2\n",
      "2\n",
      "2\n",
      "3\n",
      "3\n",
      "3\n",
      "3\n",
      "3\n"
     ]
    }
   ],
   "source": [
    "for i in range(1,4): # row\n",
    "    for j in range(1,6): #column\n",
    "        print(i)"
   ]
  },
  {
   "cell_type": "code",
   "execution_count": 30,
   "id": "502305d2-aea9-439c-b2a0-aa10bdb15a95",
   "metadata": {},
   "outputs": [
    {
     "name": "stdout",
     "output_type": "stream",
     "text": [
      "1 1 1 \n",
      "2 2 2 \n",
      "3 3 3 \n"
     ]
    }
   ],
   "source": [
    "for i in range(1,4): \n",
    "    for j in range(1,4): \n",
    "        print(i,end=\" \")\n",
    "    print()"
   ]
  },
  {
   "cell_type": "code",
   "execution_count": 25,
   "id": "59389bec-9771-4f2a-97f3-ce1cec09a43e",
   "metadata": {},
   "outputs": [
    {
     "name": "stdout",
     "output_type": "stream",
     "text": [
      "1 \n",
      "1 2 \n",
      "1 2 3 \n",
      "1 2 3 4 \n",
      "1 2 3 4 5 \n"
     ]
    }
   ],
   "source": [
    "for i in range(1,6):\n",
    "    for j in range(1,i+1):\n",
    "        print(j,end=\" \")\n",
    "    print()"
   ]
  },
  {
   "cell_type": "code",
   "execution_count": 26,
   "id": "8fafacfe-165d-4fb7-b65e-53a60311739e",
   "metadata": {},
   "outputs": [
    {
     "name": "stdout",
     "output_type": "stream",
     "text": [
      "1 \n",
      "2 2 \n",
      "3 3 3 \n",
      "4 4 4 4 \n",
      "5 5 5 5 5 \n"
     ]
    }
   ],
   "source": [
    "for i in range(1,6):\n",
    "    for j in range(1,i+1):\n",
    "        print(i,end=\" \")\n",
    "    print()"
   ]
  },
  {
   "cell_type": "code",
   "execution_count": 27,
   "id": "ccafaf8f-088a-48a8-9cee-f41687d038c8",
   "metadata": {},
   "outputs": [
    {
     "name": "stdout",
     "output_type": "stream",
     "text": [
      "1 \n",
      "1 1 \n",
      "1 1 1 \n",
      "1 1 1 1 \n",
      "1 1 1 1 1 \n"
     ]
    }
   ],
   "source": [
    "k=1\n",
    "for i in range(1,6):\n",
    "    for j in range(1,i+1):\n",
    "        print(k,end=\" \")\n",
    "    print()"
   ]
  },
  {
   "cell_type": "code",
   "execution_count": 28,
   "id": "22f0a4ae-493e-4f81-a8d8-c792db9be24c",
   "metadata": {},
   "outputs": [
    {
     "name": "stdout",
     "output_type": "stream",
     "text": [
      "1 \n",
      "2 3 \n",
      "4 5 6 \n",
      "7 8 9 10 \n",
      "11 12 13 14 15 \n"
     ]
    }
   ],
   "source": [
    "k=1\n",
    "for i in range(1,6):\n",
    "    for j in range(1,i+1):\n",
    "        print(k,end=\" \")\n",
    "        k=k+1\n",
    "    print() #new line/n"
   ]
  },
  {
   "cell_type": "code",
   "execution_count": 29,
   "id": "a3078c6f-74bb-4941-af1b-5b3854f788dd",
   "metadata": {},
   "outputs": [
    {
     "name": "stdout",
     "output_type": "stream",
     "text": [
      "1 \n",
      "3 5 \n",
      "7 9 11 \n",
      "13 15 17 19 \n",
      "21 23 25 27 29 \n"
     ]
    }
   ],
   "source": [
    "k=1\n",
    "for i in range(1,6):\n",
    "    for j in range(1,i+1):\n",
    "        print(k,end=\" \")\n",
    "        k=k+2\n",
    "    print()"
   ]
  },
  {
   "cell_type": "code",
   "execution_count": 34,
   "id": "a6261cf8-cdec-43bc-9bee-fe64092078ed",
   "metadata": {},
   "outputs": [
    {
     "name": "stdout",
     "output_type": "stream",
     "text": [
      "1 2 3 4 5 \n",
      "1 2 3 4 \n",
      "1 2 3 \n",
      "1 2 \n",
      "1 \n"
     ]
    }
   ],
   "source": [
    "for i in range(5,0,-1):\n",
    "    for j in range(1,i+1):\n",
    "        print(j,end=\" \")\n",
    "    print()"
   ]
  },
  {
   "cell_type": "code",
   "execution_count": null,
   "id": "837c07fc-ab55-4013-81e8-aadb7de765e8",
   "metadata": {},
   "outputs": [],
   "source": [
    " "
   ]
  }
 ],
 "metadata": {
  "kernelspec": {
   "display_name": "Python 3 (ipykernel)",
   "language": "python",
   "name": "python3"
  },
  "language_info": {
   "codemirror_mode": {
    "name": "ipython",
    "version": 3
   },
   "file_extension": ".py",
   "mimetype": "text/x-python",
   "name": "python",
   "nbconvert_exporter": "python",
   "pygments_lexer": "ipython3",
   "version": "3.12.7"
  }
 },
 "nbformat": 4,
 "nbformat_minor": 5
}
