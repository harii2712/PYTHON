{
 "cells": [
  {
   "cell_type": "code",
   "execution_count": 6,
   "id": "126fcd02-b0c4-4dc3-b37d-ed51419ee172",
   "metadata": {},
   "outputs": [
    {
     "name": "stdout",
     "output_type": "stream",
     "text": [
      "(0, 2)\n"
     ]
    }
   ],
   "source": [
    "t = tuple(i for i in range(3) if i % 2 == 0)\n",
    "print(t)"
   ]
  },
  {
   "cell_type": "code",
   "execution_count": 1,
   "id": "ddd3a2d8-469b-4633-8e26-cb80932868ad",
   "metadata": {},
   "outputs": [
    {
     "name": "stdout",
     "output_type": "stream",
     "text": [
      "140711038560696\n"
     ]
    }
   ],
   "source": [
    "t = (1)\n",
    "print(id(t))   #tuple memory location id"
   ]
  },
  {
   "cell_type": "code",
   "execution_count": 7,
   "id": "762f7aca-3a96-450f-857c-d6e0ca262c5f",
   "metadata": {},
   "outputs": [
    {
     "name": "stdout",
     "output_type": "stream",
     "text": [
      "1\n"
     ]
    }
   ],
   "source": [
    "d={'x':1,'y':2}\n",
    "print(d.pop('x','not found'))"
   ]
  },
  {
   "cell_type": "code",
   "execution_count": 8,
   "id": "044087b6-7443-4d2d-8c11-35fb3ab0fd96",
   "metadata": {},
   "outputs": [
    {
     "name": "stdout",
     "output_type": "stream",
     "text": [
      "not found\n"
     ]
    }
   ],
   "source": [
    "d={'x':1,'y':2}\n",
    "print(d.pop('z','not found'))"
   ]
  },
  {
   "cell_type": "code",
   "execution_count": 9,
   "id": "fb94ce6d-780f-4497-b420-8099d7d94f91",
   "metadata": {},
   "outputs": [
    {
     "name": "stdout",
     "output_type": "stream",
     "text": [
      "0\n",
      "1\n",
      "4\n"
     ]
    }
   ],
   "source": [
    "d={k**2 for k in range(3)}\n",
    "for k in d:\n",
    "    print(k)"
   ]
  },
  {
   "cell_type": "code",
   "execution_count": 10,
   "id": "3fce7217-3dc6-4e7c-893f-b3ef0f340110",
   "metadata": {},
   "outputs": [
    {
     "ename": "RuntimeError",
     "evalue": "dictionary changed size during iteration",
     "output_type": "error",
     "traceback": [
      "\u001b[1;31m---------------------------------------------------------------------------\u001b[0m",
      "\u001b[1;31mRuntimeError\u001b[0m                              Traceback (most recent call last)",
      "Cell \u001b[1;32mIn[10], line 2\u001b[0m\n\u001b[0;32m      1\u001b[0m d\u001b[38;5;241m=\u001b[39m{k:k\u001b[38;5;241m*\u001b[39m\u001b[38;5;241m*\u001b[39m\u001b[38;5;241m2\u001b[39m \u001b[38;5;28;01mfor\u001b[39;00m k \u001b[38;5;129;01min\u001b[39;00m \u001b[38;5;28mrange\u001b[39m (\u001b[38;5;241m3\u001b[39m)}\n\u001b[1;32m----> 2\u001b[0m \u001b[38;5;28;01mfor\u001b[39;00m k \u001b[38;5;129;01min\u001b[39;00m d:\n\u001b[0;32m      3\u001b[0m     d[k\u001b[38;5;241m+\u001b[39m\u001b[38;5;241m3\u001b[39m]\u001b[38;5;241m=\u001b[39mk\n\u001b[0;32m      4\u001b[0m \u001b[38;5;28mprint\u001b[39m(d)\n",
      "\u001b[1;31mRuntimeError\u001b[0m: dictionary changed size during iteration"
     ]
    }
   ],
   "source": [
    "d={k:k**2 for k in range (3)}      # key size doesn't change \n",
    "for k in d:                         # dictionary changed size during iteration\n",
    "    d[k+3]=k\n",
    "print(d)"
   ]
  },
  {
   "cell_type": "code",
   "execution_count": 11,
   "id": "93d0a869-db4b-4c9a-aee1-ac3b68d78c4a",
   "metadata": {},
   "outputs": [
    {
     "name": "stdout",
     "output_type": "stream",
     "text": [
      "{0: 0, 1: 1, 2: 4}\n"
     ]
    }
   ],
   "source": [
    "d={k:k**2 for k in range (3)}  \n",
    "print(d)"
   ]
  },
  {
   "cell_type": "code",
   "execution_count": 12,
   "id": "c19d406c-ad06-4758-954c-7f62989e1359",
   "metadata": {},
   "outputs": [
    {
     "name": "stdout",
     "output_type": "stream",
     "text": [
      "55\n"
     ]
    }
   ],
   "source": [
    "a=[12,55,7,22,6]                   # 12>0  12>55 55>7  55>22 55>6   m=55\n",
    "m=0\n",
    "for i in a:\n",
    "    if(i>m):\n",
    "        m=i\n",
    "print(m)"
   ]
  },
  {
   "cell_type": "code",
   "execution_count": 13,
   "id": "03dc5296-b167-4149-9c61-adaf7e844aee",
   "metadata": {},
   "outputs": [
    {
     "name": "stdout",
     "output_type": "stream",
     "text": [
      "6\n"
     ]
    }
   ],
   "source": [
    "a=[12,55,7,22,6]\n",
    "m=a[0]\n",
    "for i in a:\n",
    "    if(i<m):\n",
    "        m=i\n",
    "print(m)"
   ]
  },
  {
   "cell_type": "code",
   "execution_count": 19,
   "id": "749936ae-fcc6-456b-8341-e6a7815473ba",
   "metadata": {},
   "outputs": [
    {
     "name": "stdout",
     "output_type": "stream",
     "text": [
      "22\n"
     ]
    }
   ],
   "source": [
    "a=[12,55,7,22,6]\n",
    "m=0\n",
    "n=0\n",
    "for i in a:\n",
    "    if(i>m):\n",
    "        m=i\n",
    "\n",
    "\n",
    "for i in a:\n",
    "     if(i>n and m!=i):\n",
    "        n=i\n",
    "print(n)\n",
    "\n",
    "\n"
   ]
  },
  {
   "cell_type": "code",
   "execution_count": null,
   "id": "e7e2e317-477b-4050-8913-3fe33f63fa8e",
   "metadata": {},
   "outputs": [],
   "source": [
    "a=\"besaant\"\n",
    "for i in range(0,len(a)):\n",
    "    for j in range(i+1,len(a)):"
   ]
  }
 ],
 "metadata": {
  "kernelspec": {
   "display_name": "Python 3 (ipykernel)",
   "language": "python",
   "name": "python3"
  },
  "language_info": {
   "codemirror_mode": {
    "name": "ipython",
    "version": 3
   },
   "file_extension": ".py",
   "mimetype": "text/x-python",
   "name": "python",
   "nbconvert_exporter": "python",
   "pygments_lexer": "ipython3",
   "version": "3.12.7"
  }
 },
 "nbformat": 4,
 "nbformat_minor": 5
}
