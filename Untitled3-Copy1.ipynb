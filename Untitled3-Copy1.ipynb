{
 "cells": [
  {
   "cell_type": "code",
   "execution_count": null,
   "id": "71369334-2601-4027-a627-ec6f9eb302bc",
   "metadata": {},
   "outputs": [],
   "source": [
    "#STRING FUNCTIONS"
   ]
  },
  {
   "cell_type": "code",
   "execution_count": 1,
   "id": "57c488b6-6cec-4bb7-b143-4407e36f4f00",
   "metadata": {},
   "outputs": [
    {
     "name": "stdout",
     "output_type": "stream",
     "text": [
      "6\n"
     ]
    }
   ],
   "source": [
    "#length\n",
    "a=\"besant\"\n",
    "print(len(a))"
   ]
  },
  {
   "cell_type": "code",
   "execution_count": 2,
   "id": "3d742a7b-c0ef-426a-8e13-0e14876f231f",
   "metadata": {},
   "outputs": [
    {
     "name": "stdout",
     "output_type": "stream",
     "text": [
      "123\n"
     ]
    }
   ],
   "source": [
    "a=123\n",
    "print(str(a))"
   ]
  },
  {
   "cell_type": "code",
   "execution_count": 3,
   "id": "68f99b4a-8ac7-4bc9-9c9e-10fba1c51bca",
   "metadata": {},
   "outputs": [
    {
     "ename": "TypeError",
     "evalue": "can only concatenate str (not \"int\") to str",
     "output_type": "error",
     "traceback": [
      "\u001b[1;31m---------------------------------------------------------------------------\u001b[0m",
      "\u001b[1;31mTypeError\u001b[0m                                 Traceback (most recent call last)",
      "Cell \u001b[1;32mIn[3], line 3\u001b[0m\n\u001b[0;32m      1\u001b[0m a\u001b[38;5;241m=\u001b[39m\u001b[38;5;241m123\u001b[39m\n\u001b[0;32m      2\u001b[0m b\u001b[38;5;241m=\u001b[39m\u001b[38;5;241m123\u001b[39m\n\u001b[1;32m----> 3\u001b[0m \u001b[38;5;28mprint\u001b[39m(\u001b[38;5;28mstr\u001b[39m(a)\u001b[38;5;241m+\u001b[39mb)\n",
      "\u001b[1;31mTypeError\u001b[0m: can only concatenate str (not \"int\") to str"
     ]
    }
   ],
   "source": [
    "a=123\n",
    "b=123\n",
    "print(str(a)+b)"
   ]
  },
  {
   "cell_type": "code",
   "execution_count": 4,
   "id": "f86b344e-1d7e-4117-9786-99e18c9a52ee",
   "metadata": {},
   "outputs": [
    {
     "name": "stdout",
     "output_type": "stream",
     "text": [
      "HELLO WORLD\n"
     ]
    }
   ],
   "source": [
    "a=\"hello world\"\n",
    "print(a.upper())"
   ]
  },
  {
   "cell_type": "code",
   "execution_count": 7,
   "id": "97bab63d-2229-4292-ab80-d0ffeebd4c6e",
   "metadata": {},
   "outputs": [
    {
     "name": "stdout",
     "output_type": "stream",
     "text": [
      "hello world\n"
     ]
    }
   ],
   "source": [
    "a=\"HELLO WORLD\"\n",
    "print(a.lower())"
   ]
  },
  {
   "cell_type": "code",
   "execution_count": 8,
   "id": "20f0a461-c266-4610-9d57-03a1a9d4260a",
   "metadata": {},
   "outputs": [
    {
     "name": "stdout",
     "output_type": "stream",
     "text": [
      "Hello World\n"
     ]
    }
   ],
   "source": [
    "a=\"hello world\"\n",
    "print(a.title())"
   ]
  },
  {
   "cell_type": "code",
   "execution_count": 9,
   "id": "6061c4f4-f122-4713-bd8d-2b11961a2f99",
   "metadata": {},
   "outputs": [
    {
     "name": "stdout",
     "output_type": "stream",
     "text": [
      "Hello world\n"
     ]
    }
   ],
   "source": [
    "a=\"hello world\"\n",
    "print(a.capitalize())"
   ]
  },
  {
   "cell_type": "code",
   "execution_count": 10,
   "id": "369929a5-7a14-4cff-a809-3241f463e82c",
   "metadata": {},
   "outputs": [
    {
     "name": "stdout",
     "output_type": "stream",
     "text": [
      "hELLO WORLD\n"
     ]
    }
   ],
   "source": [
    "a=\"Hello world\"\n",
    "print(a.swapcase())"
   ]
  },
  {
   "cell_type": "code",
   "execution_count": 11,
   "id": "1d3f95c9-46c2-4909-a432-67474a0ed82f",
   "metadata": {},
   "outputs": [
    {
     "name": "stdout",
     "output_type": "stream",
     "text": [
      "2\n"
     ]
    }
   ],
   "source": [
    "#searching\n",
    "s=\"banana\"\n",
    "print(s.find(\"na\"))"
   ]
  },
  {
   "cell_type": "code",
   "execution_count": 12,
   "id": "cd77bc14-bbe4-43a7-9b39-d0a9cc8085c6",
   "metadata": {},
   "outputs": [
    {
     "name": "stdout",
     "output_type": "stream",
     "text": [
      "2\n"
     ]
    }
   ],
   "source": [
    "s=\"banana\"\n",
    "print(s.index(\"na\"))"
   ]
  },
  {
   "cell_type": "code",
   "execution_count": 14,
   "id": "64db9817-95f7-4ad0-a580-d133e568b88e",
   "metadata": {},
   "outputs": [
    {
     "name": "stdout",
     "output_type": "stream",
     "text": [
      "6\n"
     ]
    }
   ],
   "source": [
    "s=\"bananana\"\n",
    "print(s.rfind(\"na\"))"
   ]
  },
  {
   "cell_type": "code",
   "execution_count": 17,
   "id": "81a348bf-9139-4033-bec5-131eb9a3674a",
   "metadata": {},
   "outputs": [
    {
     "name": "stdout",
     "output_type": "stream",
     "text": [
      "3\n"
     ]
    }
   ],
   "source": [
    "#count\n",
    "s=\"banana\"\n",
    "print(s.count(\"a\"))"
   ]
  },
  {
   "cell_type": "code",
   "execution_count": 18,
   "id": "b6622ecf-8340-44d9-ad80-b5b5c319b558",
   "metadata": {},
   "outputs": [
    {
     "name": "stdout",
     "output_type": "stream",
     "text": [
      "True\n"
     ]
    }
   ],
   "source": [
    "s=\"banana\"\n",
    "print(s.isalpha())"
   ]
  },
  {
   "cell_type": "code",
   "execution_count": 20,
   "id": "89efe26e-2a74-41ee-aeb3-3ed7be217826",
   "metadata": {},
   "outputs": [
    {
     "name": "stdout",
     "output_type": "stream",
     "text": [
      "False\n"
     ]
    }
   ],
   "source": [
    "s=\"banana\"\n",
    "print(s.isdigit())"
   ]
  },
  {
   "cell_type": "code",
   "execution_count": 21,
   "id": "d243a57e-b816-488b-9c4f-0743669f0d87",
   "metadata": {},
   "outputs": [
    {
     "name": "stdout",
     "output_type": "stream",
     "text": [
      "True\n"
     ]
    }
   ],
   "source": [
    "s=\"123\"\n",
    "print(s.isdigit())"
   ]
  },
  {
   "cell_type": "code",
   "execution_count": 22,
   "id": "c3bf3566-860f-4c0e-bf09-e3091409f1f6",
   "metadata": {},
   "outputs": [
    {
     "name": "stdout",
     "output_type": "stream",
     "text": [
      "True\n"
     ]
    }
   ],
   "source": [
    "s=\"123num\"\n",
    "print(s.isalnum())"
   ]
  },
  {
   "cell_type": "code",
   "execution_count": 23,
   "id": "4cb7e085-b0f2-4284-8bc7-ee4283036a31",
   "metadata": {},
   "outputs": [
    {
     "name": "stdout",
     "output_type": "stream",
     "text": [
      "True\n"
     ]
    }
   ],
   "source": [
    "s=\"abc123\"\n",
    "print(s.isalnum())"
   ]
  },
  {
   "cell_type": "code",
   "execution_count": 24,
   "id": "6073abf1-d1d9-4528-845a-0a53d527f565",
   "metadata": {},
   "outputs": [
    {
     "name": "stdout",
     "output_type": "stream",
     "text": [
      "False\n"
     ]
    }
   ],
   "source": [
    "s=\"abc123@\"\n",
    "print(s.isalnum())"
   ]
  },
  {
   "cell_type": "code",
   "execution_count": 25,
   "id": "04150ac0-b085-4d47-bb67-9d9ba164ea9c",
   "metadata": {},
   "outputs": [
    {
     "name": "stdout",
     "output_type": "stream",
     "text": [
      "hello\n"
     ]
    }
   ],
   "source": [
    "a=\"hello\"\n",
    "print(a.strip())"
   ]
  },
  {
   "cell_type": "code",
   "execution_count": 29,
   "id": "f456a688-95ac-4b68-a4b5-04a357c0bbb2",
   "metadata": {
    "scrolled": true
   },
   "outputs": [
    {
     "name": "stdout",
     "output_type": "stream",
     "text": [
      "hello world\n"
     ]
    }
   ],
   "source": [
    "a=\" hello world \"\n",
    "print(a.strip())"
   ]
  },
  {
   "cell_type": "code",
   "execution_count": 30,
   "id": "d378627a-3398-4dda-a64d-856dbb9b4e5c",
   "metadata": {},
   "outputs": [
    {
     "name": "stdout",
     "output_type": "stream",
     "text": [
      "hello world \n"
     ]
    }
   ],
   "source": [
    "a=\" hello world \"\n",
    "print(a.lstrip())"
   ]
  },
  {
   "cell_type": "code",
   "execution_count": 31,
   "id": "c4fd7fba-38c8-4076-a547-c5d62f845cf2",
   "metadata": {},
   "outputs": [
    {
     "name": "stdout",
     "output_type": "stream",
     "text": [
      " hello world\n"
     ]
    }
   ],
   "source": [
    "a=\" hello world \"\n",
    "print(a.rstrip())"
   ]
  },
  {
   "cell_type": "code",
   "execution_count": 33,
   "id": "28ab952f-2dd1-404f-95a0-cecbf4f6411c",
   "metadata": {},
   "outputs": [
    {
     "name": "stdout",
     "output_type": "stream",
     "text": [
      " hellz wzrld \n"
     ]
    }
   ],
   "source": [
    "a=\" hello world \"\n",
    "print(a.replace(\"o\",\"z\"))"
   ]
  },
  {
   "cell_type": "code",
   "execution_count": 34,
   "id": "a3976b06-42e0-42ba-8bd9-6295b620bd34",
   "metadata": {},
   "outputs": [
    {
     "name": "stdout",
     "output_type": "stream",
     "text": [
      " harii world \n"
     ]
    }
   ],
   "source": [
    "a=\" hello world \"\n",
    "print(a.replace(\"hello\",\"harii\"))"
   ]
  },
  {
   "cell_type": "code",
   "execution_count": 36,
   "id": "bf21f02f-6b8f-4041-a1a5-1660a9cf99ed",
   "metadata": {},
   "outputs": [
    {
     "name": "stdout",
     "output_type": "stream",
     "text": [
      " hello world \n"
     ]
    }
   ],
   "source": [
    "a=\" hello world \"\n",
    "for i in range(0,len(a)):\n",
    "    a[i].replace(a[i],'a')\n",
    "print(a)"
   ]
  },
  {
   "cell_type": "code",
   "execution_count": 39,
   "id": "5e0893fb-829e-4402-b8c4-9ab853311cb8",
   "metadata": {},
   "outputs": [
    {
     "name": "stdout",
     "output_type": "stream",
     "text": [
      "00042\n"
     ]
    }
   ],
   "source": [
    "print(\"42\".zfill(5))"
   ]
  },
  {
   "cell_type": "code",
   "execution_count": 42,
   "id": "a23bbc18-f975-46f4-8fd0-82a133c93051",
   "metadata": {},
   "outputs": [
    {
     "name": "stdout",
     "output_type": "stream",
     "text": [
      "--hello---\n"
     ]
    }
   ],
   "source": [
    "print(\"hello\".center(10,\"-\"))"
   ]
  },
  {
   "cell_type": "code",
   "execution_count": 45,
   "id": "d170c357-fed1-4a35-b045-e2154fd9ddd8",
   "metadata": {},
   "outputs": [
    {
     "name": "stdout",
     "output_type": "stream",
     "text": [
      "['', 'pple,b', 'n', 'n', ',cherry']\n",
      "['apple', 'banana', 'cherry']\n"
     ]
    }
   ],
   "source": [
    "s=\"apple,banana,cherry\"\n",
    "print(s.split(\"a\"))\n",
    "print(s.split(\",\"))"
   ]
  },
  {
   "cell_type": "code",
   "execution_count": 46,
   "id": "b72d5058-43e2-43ee-9529-eb151d644a0a",
   "metadata": {},
   "outputs": [
    {
     "name": "stdout",
     "output_type": "stream",
     "text": [
      "2025-05-14\n"
     ]
    }
   ],
   "source": [
    "print(\"-\".join([\"2025\",\"05\",\"14\"]))"
   ]
  },
  {
   "cell_type": "code",
   "execution_count": 47,
   "id": "af4b1b70-e6c0-4e6b-bbc2-8953e310f802",
   "metadata": {},
   "outputs": [
    {
     "name": "stdout",
     "output_type": "stream",
     "text": [
      "2025/05/14\n"
     ]
    }
   ],
   "source": [
    "print(\"/\".join([\"2025\",\"05\",\"14\"]))"
   ]
  },
  {
   "cell_type": "code",
   "execution_count": 48,
   "id": "90880fdf-58c1-43f6-9eb8-5a18023713d4",
   "metadata": {},
   "outputs": [
    {
     "name": "stdout",
     "output_type": "stream",
     "text": [
      "name:abc,age:30\n"
     ]
    }
   ],
   "source": [
    "name=\"abc\"\n",
    "age=\"30\"\n",
    "print(\"name:{},age:{}\".format(name,age))"
   ]
  },
  {
   "cell_type": "code",
   "execution_count": 49,
   "id": "70dba0ed-72ae-456d-8d81-9abd2bb96e70",
   "metadata": {},
   "outputs": [
    {
     "name": "stdout",
     "output_type": "stream",
     "text": [
      "name:abc,age:30\n"
     ]
    }
   ],
   "source": [
    "name=\"abc\"\n",
    "age=\"30\"\n",
    "print(f\"name:{name},age:{age}\")"
   ]
  },
  {
   "cell_type": "code",
   "execution_count": 52,
   "id": "7e18dc0e-0165-4d64-a1f1-7b232516d277",
   "metadata": {},
   "outputs": [
    {
     "name": "stdout",
     "output_type": "stream",
     "text": [
      "True\n"
     ]
    }
   ],
   "source": [
    "name=\"work\"\n",
    "print(name.startswith(\"w\"))"
   ]
  },
  {
   "cell_type": "code",
   "execution_count": 54,
   "id": "7e8f570e-66c7-4528-b6e9-c0d4ba6b47ad",
   "metadata": {},
   "outputs": [
    {
     "name": "stdout",
     "output_type": "stream",
     "text": [
      "False\n"
     ]
    }
   ],
   "source": [
    "name=\"work\"\n",
    "print(name.endswith(\"w\"))"
   ]
  },
  {
   "cell_type": "code",
   "execution_count": null,
   "id": "4437b39a-5511-4e26-a295-295bd2ca77b6",
   "metadata": {},
   "outputs": [],
   "source": []
  }
 ],
 "metadata": {
  "kernelspec": {
   "display_name": "Python 3 (ipykernel)",
   "language": "python",
   "name": "python3"
  },
  "language_info": {
   "codemirror_mode": {
    "name": "ipython",
    "version": 3
   },
   "file_extension": ".py",
   "mimetype": "text/x-python",
   "name": "python",
   "nbconvert_exporter": "python",
   "pygments_lexer": "ipython3",
   "version": "3.12.7"
  }
 },
 "nbformat": 4,
 "nbformat_minor": 5
}
