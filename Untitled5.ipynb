{
 "cells": [
  {
   "cell_type": "code",
   "execution_count": 3,
   "id": "fc26743b-57bc-47aa-ac53-dcebe7b2e845",
   "metadata": {},
   "outputs": [
    {
     "name": "stdin",
     "output_type": "stream",
     "text": [
      " 200\n",
      " 540\n"
     ]
    },
    {
     "name": "stdout",
     "output_type": "stream",
     "text": [
      "130\n",
      "70\n"
     ]
    }
   ],
   "source": [
    "v=int(input())\n",
    "w=int(input())\n",
    "if(w>=2 and w%2==0 and w>v):\n",
    "    tw=((4*v)-w)//2\n",
    "    fw=v-tw\n",
    "    print(tw)\n",
    "    print(fw)\n",
    "\n",
    "else:\n",
    "    print(\"invalid input\")"
   ]
  },
  {
   "cell_type": "code",
   "execution_count": 4,
   "id": "a4feacf0-017d-49d9-a98d-7c3c2ddd2a74",
   "metadata": {},
   "outputs": [
    {
     "name": "stdin",
     "output_type": "stream",
     "text": [
      " ***###\n"
     ]
    },
    {
     "name": "stdout",
     "output_type": "stream",
     "text": [
      "0\n"
     ]
    }
   ],
   "source": [
    "a=input()\n",
    "c1=0\n",
    "c2=0\n",
    "for i in a :\n",
    "    if(i=='*'):\n",
    "        c1=c1+1\n",
    "    else:\n",
    "        c2=c2+1\n",
    "\n",
    "print(c1-c2)"
   ]
  },
  {
   "cell_type": "code",
   "execution_count": 5,
   "id": "05236dc7-6833-486b-8c90-126a99c59564",
   "metadata": {},
   "outputs": [
    {
     "name": "stdin",
     "output_type": "stream",
     "text": [
      " *******###\n"
     ]
    },
    {
     "name": "stdout",
     "output_type": "stream",
     "text": [
      "4\n"
     ]
    }
   ],
   "source": [
    "a=input()\n",
    "c1=0\n",
    "c2=0\n",
    "for i in a :\n",
    "    if(i=='*'):\n",
    "        c1=c1+1\n",
    "    else:\n",
    "        c2=c2+1\n",
    "\n",
    "print(c1-c2)"
   ]
  },
  {
   "cell_type": "code",
   "execution_count": 6,
   "id": "278f26cb-70fa-410e-9100-96efbaab4a61",
   "metadata": {},
   "outputs": [
    {
     "name": "stdout",
     "output_type": "stream",
     "text": [
      "[1, 2, 3, 4, 6, 7, 8]\n"
     ]
    }
   ],
   "source": [
    "a=[1,2,3,4,6,7,8]\n",
    "print(a)"
   ]
  },
  {
   "cell_type": "code",
   "execution_count": 8,
   "id": "5fa50ba3-7602-48a7-ae3b-e105579b3485",
   "metadata": {},
   "outputs": [
    {
     "name": "stdout",
     "output_type": "stream",
     "text": [
      "1\n",
      "2\n",
      "3\n",
      "4\n",
      "6\n",
      "7\n",
      "8\n"
     ]
    }
   ],
   "source": [
    "a=[1,2,3,4,6,7,8]\n",
    "for i in a:\n",
    "    print(i)"
   ]
  },
  {
   "cell_type": "code",
   "execution_count": 9,
   "id": "e5ddac90-763d-43f6-9846-730b7f8b194b",
   "metadata": {},
   "outputs": [
    {
     "name": "stdout",
     "output_type": "stream",
     "text": [
      "7\n"
     ]
    }
   ],
   "source": [
    "a=[7,2,4,8,9] #number will started in 0,1,2,3,4\n",
    "c=1\n",
    "print(a[0])"
   ]
  },
  {
   "cell_type": "code",
   "execution_count": 10,
   "id": "212d679e-d9e9-4aa1-afef-c1542cdc1a73",
   "metadata": {},
   "outputs": [
    {
     "name": "stdout",
     "output_type": "stream",
     "text": [
      "7\n",
      "2\n",
      "4\n",
      "8\n",
      "9\n"
     ]
    }
   ],
   "source": [
    "a=[7,2,4,8,9,]\n",
    "for i in range(0,5):\n",
    "    print(a[i]) #a[0]a[1]a[2]"
   ]
  },
  {
   "cell_type": "code",
   "execution_count": 12,
   "id": "42aeb250-3d20-4c18-8ea0-e1a5f1f49b27",
   "metadata": {},
   "outputs": [
    {
     "name": "stdout",
     "output_type": "stream",
     "text": [
      "3\n"
     ]
    }
   ],
   "source": [
    "a=[7,2,4,8,9]\n",
    "b=a[0]\n",
    "c=1\n",
    "for i in range(0,5):\n",
    "    if(a[i]>b):\n",
    "        c=c+1\n",
    "print(c)"
   ]
  },
  {
   "cell_type": "code",
   "execution_count": 14,
   "id": "85cab04a-53d9-4dae-b533-285eb80cfd62",
   "metadata": {},
   "outputs": [
    {
     "name": "stdout",
     "output_type": "stream",
     "text": [
      "3\n"
     ]
    }
   ],
   "source": [
    "a=[7,2,4,8,9]\n",
    "b=a[0]\n",
    "c=1\n",
    "for i in range(0,5):\n",
    "    if(a[i]>a[0]):\n",
    "        c=c+1\n",
    "print(c)"
   ]
  },
  {
   "cell_type": "code",
   "execution_count": 15,
   "id": "860dd6a1-3baf-425c-a279-0fe6894e802a",
   "metadata": {},
   "outputs": [
    {
     "name": "stdout",
     "output_type": "stream",
     "text": [
      "1\n",
      "2\n",
      "3\n",
      "4\n"
     ]
    }
   ],
   "source": [
    "for i in range(1,5):\n",
    "    print(i)"
   ]
  },
  {
   "cell_type": "code",
   "execution_count": null,
   "id": "364aee74-a45a-4f34-a1e2-d8ac9dca1333",
   "metadata": {},
   "outputs": [],
   "source": [
    "i=1\n",
    "while(i<=5):\n",
    "    print"
   ]
  }
 ],
 "metadata": {
  "kernelspec": {
   "display_name": "Python 3 (ipykernel)",
   "language": "python",
   "name": "python3"
  },
  "language_info": {
   "codemirror_mode": {
    "name": "ipython",
    "version": 3
   },
   "file_extension": ".py",
   "mimetype": "text/x-python",
   "name": "python",
   "nbconvert_exporter": "python",
   "pygments_lexer": "ipython3",
   "version": "3.12.7"
  }
 },
 "nbformat": 4,
 "nbformat_minor": 5
}
