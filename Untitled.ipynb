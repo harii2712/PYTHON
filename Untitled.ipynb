{
 "cells": [
  {
   "cell_type": "code",
   "execution_count": 1,
   "id": "f6d4e8b3-b25f-4d2f-82b9-9820350e2eb4",
   "metadata": {},
   "outputs": [
    {
     "data": {
      "text/plain": [
       "'vada yen machi \\nvazlakka bajji \\npoduuu maamee'"
      ]
     },
     "execution_count": 1,
     "metadata": {},
     "output_type": "execute_result"
    }
   ],
   "source": [
    "'''vada yen machi \n",
    "vazlakka bajji \n",
    "poduuu maamee'''"
   ]
  },
  {
   "cell_type": "code",
   "execution_count": 2,
   "id": "e3dbe4bf-2606-4577-881b-413756d2de72",
   "metadata": {},
   "outputs": [
    {
     "data": {
      "text/plain": [
       "'a=10,b=5000,c=89\\nprint(a+b+c)'"
      ]
     },
     "execution_count": 2,
     "metadata": {},
     "output_type": "execute_result"
    }
   ],
   "source": [
    "'''a=10,b=5000,c=89\n",
    "print(a+b+c)'''"
   ]
  },
  {
   "cell_type": "code",
   "execution_count": 3,
   "id": "9b561cb6-9959-47e2-be3f-ea3e245a242a",
   "metadata": {},
   "outputs": [
    {
     "name": "stdout",
     "output_type": "stream",
     "text": [
      "13271\n"
     ]
    }
   ],
   "source": [
    "a=5836\n",
    "b=7435\n",
    "print(a+b)"
   ]
  },
  {
   "cell_type": "code",
   "execution_count": 9,
   "id": "2386512a-243e-4431-912b-9c5352f2b23a",
   "metadata": {},
   "outputs": [
    {
     "data": {
      "text/plain": [
       "'20'"
      ]
     },
     "execution_count": 9,
     "metadata": {},
     "output_type": "execute_result"
    }
   ],
   "source": [
    "a=str(20)\n",
    "a"
   ]
  },
  {
   "cell_type": "code",
   "execution_count": 10,
   "id": "19fe4e46-cd8f-487c-99d5-017f310431c6",
   "metadata": {},
   "outputs": [
    {
     "name": "stdout",
     "output_type": "stream",
     "text": [
      "2\n"
     ]
    }
   ],
   "source": [
    "k=int(2.9)\n",
    "print(k)"
   ]
  },
  {
   "cell_type": "code",
   "execution_count": 11,
   "id": "10aca40f-cfb5-4432-96f3-bcc3f9d4c84e",
   "metadata": {},
   "outputs": [
    {
     "data": {
      "text/plain": [
       "5.0"
      ]
     },
     "execution_count": 11,
     "metadata": {},
     "output_type": "execute_result"
    }
   ],
   "source": [
    "h=float(5)\n",
    "h"
   ]
  },
  {
   "cell_type": "code",
   "execution_count": null,
   "id": "114cedda-fbb1-4d80-8023-0b5d55f53718",
   "metadata": {},
   "outputs": [],
   "source": []
  }
 ],
 "metadata": {
  "kernelspec": {
   "display_name": "Python 3 (ipykernel)",
   "language": "python",
   "name": "python3"
  },
  "language_info": {
   "codemirror_mode": {
    "name": "ipython",
    "version": 3
   },
   "file_extension": ".py",
   "mimetype": "text/x-python",
   "name": "python",
   "nbconvert_exporter": "python",
   "pygments_lexer": "ipython3",
   "version": "3.12.7"
  }
 },
 "nbformat": 4,
 "nbformat_minor": 5
}
